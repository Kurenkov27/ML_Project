{
 "cells": [
  {
   "cell_type": "code",
   "execution_count": 54,
   "id": "selected-regulation",
   "metadata": {},
   "outputs": [],
   "source": [
    "import requests\n",
    "import bs4\n",
    "import os\n",
    "from PIL import Image"
   ]
  },
  {
   "cell_type": "code",
   "execution_count": 6,
   "id": "prompt-customer",
   "metadata": {},
   "outputs": [],
   "source": [
    "url = 'https://auto.ria.com/uk/'\n",
    "page = requests.get(url)\n",
    "soup = bs4.BeautifulSoup(page.text, 'html.parser')"
   ]
  },
  {
   "cell_type": "code",
   "execution_count": 11,
   "id": "expected-acoustic",
   "metadata": {},
   "outputs": [],
   "source": [
    "start_url = 'https://auto.ria.com/uk/legkovie/?page=1'\n",
    "selector_main = 'section.ticket-item:nth-child(8) > div:nth-child(5) > div > div > div > a'"
   ]
  },
  {
   "cell_type": "code",
   "execution_count": 12,
   "id": "objective-foster",
   "metadata": {},
   "outputs": [],
   "source": [
    "page = requests.get(start_url)"
   ]
  },
  {
   "cell_type": "code",
   "execution_count": 13,
   "id": "compact-consequence",
   "metadata": {},
   "outputs": [],
   "source": [
    "soup = bs4.BeautifulSoup(page.text, 'html.parser')"
   ]
  },
  {
   "cell_type": "code",
   "execution_count": 19,
   "id": "responsible-tuesday",
   "metadata": {},
   "outputs": [],
   "source": [
    "for item in soup.find_all('span', attrs={'class':'green bold size22 tooltip-price'}):\n",
    "    print(item)"
   ]
  },
  {
   "cell_type": "code",
   "execution_count": 22,
   "id": "sublime-purchase",
   "metadata": {},
   "outputs": [
    {
     "name": "stdout",
     "output_type": "stream",
     "text": [
      "BMW 550 2010 в Києві\n",
      "Nissan X-Trail 2010 в Києві\n",
      "Ford EcoSport 2019 в Києві\n",
      "Nissan X-Trail 2009 в Києві\n",
      "Mazda 6 2018 в Шостці\n",
      "Mazda 6 2007 в Львові\n",
      "Ford Fusion 2015 в Одесі\n",
      "BMW X5 2010 в Хмельницькому\n",
      "BMW X5 2018 в Дніпрі\n"
     ]
    }
   ],
   "source": [
    "for item in soup.select('.address'):\n",
    "    print(item.get('title'))"
   ]
  },
  {
   "cell_type": "code",
   "execution_count": 32,
   "id": "twelve-expression",
   "metadata": {},
   "outputs": [
    {
     "name": "stdout",
     "output_type": "stream",
     "text": [
      "  15 999 $ • 442 532 грн  \n",
      "  13 900 $ • 384 474 грн  \n",
      "  15 900 $ • 439 794 грн  \n",
      "  10 800 $ • 298 728 грн  \n",
      "  26 499 $ • 732 962 грн  \n",
      "  5 500 $ • 152 130 грн  \n",
      "  11 700 $ • 323 622 грн  \n",
      "  19 300 $ • 533 838 грн  \n",
      "  43 500 $ • 1 203 210 грн  \n"
     ]
    }
   ],
   "source": [
    "for item in soup.select('.price-ticket'):\n",
    "    print(item.get_text())\n"
   ]
  },
  {
   "cell_type": "code",
   "execution_count": 33,
   "id": "chubby-mustang",
   "metadata": {},
   "outputs": [
    {
     "name": "stdout",
     "output_type": "stream",
     "text": [
      "https://auto.ria.com/uk/auto_bmw_550_28843212.html\n",
      "https://auto.ria.com/uk/auto_nissan_x_trail_29745745.html\n",
      "https://auto.ria.com/uk/auto_ford_ecosport_29908401.html\n",
      "https://auto.ria.com/uk/auto_nissan_x_trail_29945678.html\n",
      "https://auto.ria.com/uk/auto_mazda_6_29640989.html\n",
      "https://auto.ria.com/uk/auto_mazda_6_25522964.html\n",
      "https://auto.ria.com/uk/auto_ford_fusion_29940561.html\n",
      "https://auto.ria.com/uk/auto_bmw_x5_29946385.html\n",
      "https://auto.ria.com/uk/auto_bmw_x5_27900408.html\n"
     ]
    }
   ],
   "source": [
    "for item in soup.select('.address'):\n",
    "    print(item.get('href'))"
   ]
  },
  {
   "cell_type": "code",
   "execution_count": 37,
   "id": "animal-standard",
   "metadata": {},
   "outputs": [
    {
     "data": {
      "text/plain": [
       "'https://auto.ria.com/uk/auto_bmw_550_28843212.html'"
      ]
     },
     "execution_count": 37,
     "metadata": {},
     "output_type": "execute_result"
    }
   ],
   "source": [
    "url_1 = soup.select('.address')[0].get('href')\n",
    "url_1"
   ]
  },
  {
   "cell_type": "code",
   "execution_count": 38,
   "id": "located-airfare",
   "metadata": {},
   "outputs": [],
   "source": [
    "car_page = requests.get(url_1)\n",
    "car_page.raise_for_status()"
   ]
  },
  {
   "cell_type": "code",
   "execution_count": 40,
   "id": "personal-twenty",
   "metadata": {},
   "outputs": [],
   "source": [
    "car_soup = bs4.BeautifulSoup(car_page.text)"
   ]
  },
  {
   "cell_type": "code",
   "execution_count": 42,
   "id": "modified-determination",
   "metadata": {},
   "outputs": [
    {
     "data": {
      "text/plain": [
       "[]"
      ]
     },
     "execution_count": 42,
     "metadata": {},
     "output_type": "execute_result"
    }
   ],
   "source": [
    "car_soup.select('outline m-auto')"
   ]
  },
  {
   "cell_type": "code",
   "execution_count": null,
   "id": "addressed-cornell",
   "metadata": {},
   "outputs": [],
   "source": []
  },
  {
   "cell_type": "code",
   "execution_count": 53,
   "id": "toxic-anxiety",
   "metadata": {},
   "outputs": [
    {
     "data": {
      "text/plain": [
       "['https://cdn4.riastatic.com/photosnew/auto/photo/bmw_550__385762084f.jpg',\n",
       " 'https://cdn0.riastatic.com/photosnew/auto/photo/bmw_550__385761990s.jpg',\n",
       " 'https://cdn0.riastatic.com/photosnew/auto/photo/bmw_550__385762030s.jpg',\n",
       " 'https://cdn0.riastatic.com/photosnew/auto/photo/bmw_550__385762080s.jpg',\n",
       " 'https://cdn0.riastatic.com/photosnew/auto/photo/bmw_550__385762145s.jpg',\n",
       " 'https://cdn3.riastatic.com/photosnew/auto/photo/bmw_550__385762148s.jpg',\n",
       " 'https://cdn3.riastatic.com/photosnew/auto/photo/bmw_550__385762163s.jpg',\n",
       " 'https://cdn3.riastatic.com/photosnew/auto/photo/bmw_550__385762183s.jpg',\n",
       " 'https://cdn1.riastatic.com/photosnew/auto/photo/bmw_550__385762251s.jpg',\n",
       " 'https://cdn3.riastatic.com/photosnew/auto/photo/bmw_550__385762353s.jpg',\n",
       " 'https://cdn1.riastatic.com/photosnew/auto/photo/bmw_550__385762376s.jpg',\n",
       " 'https://cdn1.riastatic.com/photosnew/auto/photo/bmw_550__385762386s.jpg',\n",
       " 'https://cdn2.riastatic.com/photosnew/auto/photo/bmw_550__385762387s.jpg']"
      ]
     },
     "execution_count": 53,
     "metadata": {},
     "output_type": "execute_result"
    }
   ],
   "source": [
    "\n",
    "\n",
    "response = requests.get(url_1)\n",
    "\n",
    "soup = bs4.BeautifulSoup(response.text, 'html.parser')\n",
    "\n",
    "images = soup.find_all('img')\n",
    "images_clean = []\n",
    "\n",
    "for image in images:\n",
    "    if image.get('width') == '620':\n",
    "        images_clean.append(image.get('src'))\n",
    "\n",
    "images_clean"
   ]
  },
  {
   "cell_type": "code",
   "execution_count": 52,
   "id": "physical-synthetic",
   "metadata": {},
   "outputs": [
    {
     "name": "stdout",
     "output_type": "stream",
     "text": [
      "None\n",
      "None\n",
      "None\n",
      "620\n",
      "620\n",
      "620\n",
      "620\n",
      "620\n",
      "620\n",
      "620\n",
      "620\n",
      "620\n",
      "620\n",
      "620\n",
      "620\n",
      "620\n",
      "85\n",
      "85\n",
      "85\n",
      "85\n",
      "85\n",
      "85\n",
      "85\n",
      "85\n",
      "85\n",
      "85\n",
      "85\n",
      "85\n",
      "85\n",
      "None\n",
      "None\n",
      "None\n",
      "232\n",
      "None\n",
      "1\n",
      "None\n"
     ]
    }
   ],
   "source": [
    "for image in images:\n",
    "    print(image.get('width'))"
   ]
  },
  {
   "cell_type": "code",
   "execution_count": null,
   "id": "organizational-solid",
   "metadata": {},
   "outputs": [],
   "source": [
    "image_url = image['src']\n",
    "\n",
    "\n",
    "img = Image.open(requests.get(image_url, stream = True).raw)\n",
    "\n",
    "img.save('image.jpg')"
   ]
  }
 ],
 "metadata": {
  "kernelspec": {
   "display_name": "Python 3",
   "language": "python",
   "name": "python3"
  },
  "language_info": {
   "codemirror_mode": {
    "name": "ipython",
    "version": 3
   },
   "file_extension": ".py",
   "mimetype": "text/x-python",
   "name": "python",
   "nbconvert_exporter": "python",
   "pygments_lexer": "ipython3",
   "version": "3.8.5"
  },
  "varInspector": {
   "cols": {
    "lenName": 16,
    "lenType": 16,
    "lenVar": 40
   },
   "kernels_config": {
    "python": {
     "delete_cmd_postfix": "",
     "delete_cmd_prefix": "del ",
     "library": "var_list.py",
     "varRefreshCmd": "print(var_dic_list())"
    },
    "r": {
     "delete_cmd_postfix": ") ",
     "delete_cmd_prefix": "rm(",
     "library": "var_list.r",
     "varRefreshCmd": "cat(var_dic_list()) "
    }
   },
   "types_to_exclude": [
    "module",
    "function",
    "builtin_function_or_method",
    "instance",
    "_Feature"
   ],
   "window_display": false
  }
 },
 "nbformat": 4,
 "nbformat_minor": 5
}
