{
 "cells": [
  {
   "cell_type": "code",
   "execution_count": 1,
   "id": "selected-regulation",
   "metadata": {},
   "outputs": [],
   "source": [
    "import os, time\n",
    "import requests\n",
    "import bs4\n",
    "import pandas as pd\n",
    "\n",
    "from PIL import Image\n",
    "from pathlib import Path"
   ]
  },
  {
   "cell_type": "code",
   "execution_count": null,
   "id": "lightweight-tokyo",
   "metadata": {},
   "outputs": [],
   "source": []
  },
  {
   "cell_type": "markdown",
   "id": "coral-flash",
   "metadata": {},
   "source": [
    "## Exploring page layout"
   ]
  },
  {
   "cell_type": "code",
   "execution_count": 2,
   "id": "focal-irrigation",
   "metadata": {},
   "outputs": [],
   "source": [
    "def get_soup(url):\n",
    "    res = requests.get(url)\n",
    "    res.raise_for_status()\n",
    "    soup = bs4.BeautifulSoup(res.text, 'lxml')\n",
    "    return soup"
   ]
  },
  {
   "cell_type": "code",
   "execution_count": 3,
   "id": "rough-vitamin",
   "metadata": {},
   "outputs": [],
   "source": [
    "# url to page that has adverts without photos\n",
    "no_photo_url = 'https://auto.ria.com/uk/legkovie/?page=16583'\n",
    "soup = get_soup(no_photo_url)"
   ]
  },
  {
   "cell_type": "code",
   "execution_count": 4,
   "id": "given-montana",
   "metadata": {},
   "outputs": [
    {
     "name": "stdout",
     "output_type": "stream",
     "text": [
      "1 https://cdn2.riastatic.com/photosnew/auto/photo/nissan_x-trail__317144487bx.jpg\n",
      "2 https://cdn4.riastatic.com/photosnew/auto/photo/mazda_mpv__316879619bx.jpg\n",
      "3 https://cdn0.riastatic.com/photosnew/auto/photo/vaz_2121__313667485bx.jpg\n",
      "4 https://cdn3.riastatic.com/photosnew/auto/photo/subaru_outback__316637748bx.jpg\n",
      "5 https://cdn0.riastatic.com/photosnew/auto/photo/bmw_520__316346255bx.jpg\n",
      "6 https://cdn1.riastatic.com/photosnew/auto/photo/vaz_2101__312900731bx.jpg\n"
     ]
    }
   ],
   "source": [
    "# image URL\n",
    "for idx, item in enumerate(soup.select('img[width=\"380\"]'), 1):\n",
    "    print(idx, item.get('src'))"
   ]
  },
  {
   "cell_type": "code",
   "execution_count": 5,
   "id": "trained-malawi",
   "metadata": {},
   "outputs": [
    {
     "data": {
      "text/plain": [
       "9"
      ]
     },
     "execution_count": 5,
     "metadata": {},
     "output_type": "execute_result"
    }
   ],
   "source": [
    "elements = soup.select('.content-bar')\n",
    "len(elements)"
   ]
  },
  {
   "cell_type": "code",
   "execution_count": 6,
   "id": "corporate-isolation",
   "metadata": {},
   "outputs": [
    {
     "name": "stdout",
     "output_type": "stream",
     "text": [
      "https://img6.auto.ria.com/images/nophoto/no-photo-295x195.jpg\n",
      "https://cdn2.riastatic.com/photosnew/auto/photo/nissan_x-trail__317144487bx.jpg\n",
      "https://img6.auto.ria.com/images/nophoto/no-photo-295x195.jpg\n",
      "https://cdn4.riastatic.com/photosnew/auto/photo/mazda_mpv__316879619bx.jpg\n",
      "https://cdn0.riastatic.com/photosnew/auto/photo/vaz_2121__313667485bx.jpg\n",
      "https://img6.auto.ria.com/images/nophoto/no-photo-295x195.jpg\n",
      "https://cdn3.riastatic.com/photosnew/auto/photo/subaru_outback__316637748bx.jpg\n",
      "https://cdn0.riastatic.com/photosnew/auto/photo/bmw_520__316346255bx.jpg\n",
      "https://cdn1.riastatic.com/photosnew/auto/photo/vaz_2101__312900731bx.jpg\n"
     ]
    }
   ],
   "source": [
    "# Seems like some cars have no photo and as placeholders used blank images\n",
    "# https://img6.auto.ria.com/images/nophoto/no-photo-295x195.jpg\n",
    "for elem in elements:\n",
    "    print(elem.div.img.get('src'))"
   ]
  },
  {
   "cell_type": "code",
   "execution_count": 7,
   "id": "supreme-porcelain",
   "metadata": {},
   "outputs": [
    {
     "data": {
      "text/plain": [
       "<div class=\"content-bar\"> <a class=\"m-link-ticket\" href=\"https://auto.ria.com/uk/auto_ford_transit_gruz_26234669.html\"></a> <div class=\"ticket-photo\"> <a class=\"photo-135x90 bg-no-photo\" href=\"https://auto.ria.com/uk/auto_ford_transit_gruz_26234669.html\" onclick=\"_gaq.push(['_trackEvent', 'BuSearch', 'ClickOn_ad_photo', 'go_to_ad_page'])\" target=\"_self\" title=\"Ford Transit груз. 2006 в Харкові\"> <img alt=\"Ford Transit груз. 2006 в Харкові\" src=\"https://img6.auto.ria.com/images/nophoto/no-photo-295x195.jpg\" title=\"Ford Transit груз. 2006 в Харкові\"/> </a> </div> <div class=\"content\"> <div class=\"head-ticket\"> <div class=\"item ticket-title\"> <a class=\"address\" data-template-v=\"6\" href=\"https://auto.ria.com/uk/auto_ford_transit_gruz_26234669.html\" target=\"_self\" title=\"Ford Transit груз. 2006 в Харкові\"> <span class=\"blue bold\">Ford Transit груз. </span> 2006 </a> </div> </div> <div class=\"price-ticket\" data-main-currency=\"USD\" data-main-price=\"5800\"> <span class=\"size15\"> <span class=\"bold green size22\" data-currency=\"USD\">5 800</span> <span class=\"bold green size22\">$</span> <span class=\"point\">•</span> <span class=\"i-block\"><span data-currency=\"UAH\">160 428</span> грн</span> </span> </div> <div class=\"definition-data\"> <ul class=\"unstyle characteristic\"> <li class=\"item-char js-race\"><i class=\"icon-mileage\" title=\"Пробіг\"></i> 290 тис. км </li> <li class=\"item-char view-location js-location\"> <i class=\"icon-location\"></i> Харків <span class=\"js-remote-location\" style=\"display: none;\">(<span class=\"js-distance\"></span> від <span class=\"js-remote-city-name\"></span>)</span> </li> <li class=\"item-char\"><i class=\"icon-fuel\" title=\"Тип палива\"></i> Дизель, 2 л. </li> <li class=\"item-char\"><i class=\"icon-transmission\" title=\"Тип коробки передач\"></i> Ручна / Механіка </li> </ul> <div class=\"base_information\"> </div> <input class=\"check-desc\" id=\"RadioType-26234669\" type=\"checkbox\" value=\"\"/> <p class=\"descriptions-ticket\"> <span>Авто в рабочем состоянии поварена обработана каробка, двигатель в норме поменяны стойки и ходовая АКБ новый</span> <label aria-label=\"Детальніше\" for=\"RadioType-26234669\" title=\"Детальніше\">...</label> </p> </div> <div class=\"footer_ticket\"> <span data-add-date=\"2021-04-26 00:02:25\" data-update-date=\"2021-04-26 00:02:25\" title=\"Оголошення додано 26.04.2021\"> <i class=\"icon-time-grey\"></i> <span>26.04.2021</span> </span> <div class=\"area favorite-footer\"> <a class=\"item unlink mhide\" data-autoid=\"26234669\" href=\"javascript:void(0)\" js-compare=\"\" title=\"Натисніть, щоб додати до порівняння автомобіль\"> <i class=\"icon-compare-m\"></i> </a> <a class=\"item unlink\" data-autoid=\"26234669\" href=\"javascript:void(0)\" js-addtonotepad=\"\" title=\"Натисніть, щоб перейти до управління оголошенням в блокноті\"> <i class=\"icon-favorite-head\"></i> </a> </div> </div> </div> </div>"
      ]
     },
     "execution_count": 7,
     "metadata": {},
     "output_type": "execute_result"
    }
   ],
   "source": [
    "element = elements[0]\n",
    "element"
   ]
  },
  {
   "cell_type": "code",
   "execution_count": 8,
   "id": "intimate-frontier",
   "metadata": {},
   "outputs": [
    {
     "data": {
      "text/plain": [
       "'https://img6.auto.ria.com/images/nophoto/no-photo-295x195.jpg'"
      ]
     },
     "execution_count": 8,
     "metadata": {},
     "output_type": "execute_result"
    }
   ],
   "source": [
    "# image URL\n",
    "element.div.img.get('src')"
   ]
  },
  {
   "cell_type": "code",
   "execution_count": 9,
   "id": "biological-quantum",
   "metadata": {},
   "outputs": [
    {
     "data": {
      "text/plain": [
       "('5800', 'USD')"
      ]
     },
     "execution_count": 9,
     "metadata": {},
     "output_type": "execute_result"
    }
   ],
   "source": [
    "# price, currency\n",
    "(element.select('.price-ticket')[0].get('data-main-price'), \n",
    " element.select('.price-ticket')[0].get('data-main-currency'))"
   ]
  },
  {
   "cell_type": "code",
   "execution_count": 10,
   "id": "ahead-pilot",
   "metadata": {},
   "outputs": [
    {
     "data": {
      "text/plain": [
       "' Ford Transit груз.  2006 '"
      ]
     },
     "execution_count": 10,
     "metadata": {},
     "output_type": "execute_result"
    }
   ],
   "source": [
    "# brand\n",
    "element.select('.address')[0].get_text()"
   ]
  },
  {
   "cell_type": "code",
   "execution_count": 11,
   "id": "reliable-ultimate",
   "metadata": {},
   "outputs": [
    {
     "data": {
      "text/plain": [
       "' 290 тис. км '"
      ]
     },
     "execution_count": 11,
     "metadata": {},
     "output_type": "execute_result"
    }
   ],
   "source": [
    "# mileage\n",
    "element.select('.definition-data li i[title=\"Пробіг\"]')[0].find_parent().get_text()"
   ]
  },
  {
   "cell_type": "code",
   "execution_count": 12,
   "id": "bearing-nancy",
   "metadata": {},
   "outputs": [
    {
     "data": {
      "text/plain": [
       "' Дизель, 2 л. '"
      ]
     },
     "execution_count": 12,
     "metadata": {},
     "output_type": "execute_result"
    }
   ],
   "source": [
    "# fuel type & engine volume\n",
    "element.select('.definition-data li i[title=\"Тип палива\"]')[0].find_parent().get_text()"
   ]
  },
  {
   "cell_type": "code",
   "execution_count": 13,
   "id": "casual-ratio",
   "metadata": {},
   "outputs": [
    {
     "data": {
      "text/plain": [
       "' Ручна / Механіка '"
      ]
     },
     "execution_count": 13,
     "metadata": {},
     "output_type": "execute_result"
    }
   ],
   "source": [
    "# transmission type\n",
    "element.select('.definition-data li i[title=\"Тип коробки передач\"]')[0].find_parent().get_text()"
   ]
  },
  {
   "cell_type": "code",
   "execution_count": 14,
   "id": "appointed-moore",
   "metadata": {},
   "outputs": [
    {
     "data": {
      "text/plain": [
       "'   26.04.2021          '"
      ]
     },
     "execution_count": 14,
     "metadata": {},
     "output_type": "execute_result"
    }
   ],
   "source": [
    "# publication date\n",
    "element.select('.footer_ticket')[0].get_text()"
   ]
  },
  {
   "cell_type": "code",
   "execution_count": 15,
   "id": "blind-chester",
   "metadata": {},
   "outputs": [
    {
     "name": "stdout",
     "output_type": "stream",
     "text": [
      "https://cdn2.riastatic.com/photosnew/auto/photo/nissan_x-trail__317144487bx.jpg\n",
      "Nissan X-Trail  2002|6900|USD| 290 тис. км | Дизель, 2.2 л. | Ручна / Механіка |   26.04.2021          \n",
      "\n",
      "https://cdn4.riastatic.com/photosnew/auto/photo/mazda_mpv__316879619bx.jpg\n",
      "Mazda MPV  2005|7500|USD| 290 тис. км | 2 л. | Ручна / Механіка |   26.04.2021          \n",
      "\n",
      "https://cdn0.riastatic.com/photosnew/auto/photo/vaz_2121__313667485bx.jpg\n",
      "ВАЗ 2121  1989|3200|USD| 10 тис. км | Дизель, 1.9 л. | Ручна / Механіка |   26.04.2021          \n",
      "\n",
      "https://cdn3.riastatic.com/photosnew/auto/photo/subaru_outback__316637748bx.jpg\n",
      "Subaru Outback Active 2009|10400|USD| 241 тис. км | Дизель, 2 л. | Ручна / Механіка |   26.04.2021          \n",
      "\n",
      "https://cdn0.riastatic.com/photosnew/auto/photo/bmw_520__316346255bx.jpg\n",
      "BMW 520  2002|7500|USD| 269 тис. км | Бензин, 2.2 л. | Автомат |   26.04.2021          \n",
      "\n",
      "https://cdn1.riastatic.com/photosnew/auto/photo/vaz_2101__312900731bx.jpg\n",
      "ВАЗ 2101  1977|600|USD| 510 тис. км | Бензин | Ручна / Механіка |   26.04.2021          \n",
      "\n"
     ]
    }
   ],
   "source": [
    "blank_photo = 'https://img6.auto.ria.com/images/nophoto/no-photo-295x195.jpg'\n",
    "for elem in elements:\n",
    "    img_url = elem.div.img.get('src')\n",
    "    if img_url == blank_photo:\n",
    "        continue\n",
    "    \n",
    "    brand = elem.select('.address')[0].get_text().strip()\n",
    "    price = elem.select('.price-ticket')[0].get('data-main-price')\n",
    "    currency = elem.select('.price-ticket')[0].get('data-main-currency')\n",
    "    mileage = elem.select('.definition-data li i[title=\"Пробіг\"]')[0].find_parent().get_text()\n",
    "    f_type = elem.select('.definition-data li i[title=\"Тип палива\"]')[0].find_parent().get_text()\n",
    "    t_type = elem.select('.definition-data li i[title=\"Тип коробки передач\"]')[0].find_parent().get_text()\n",
    "    pub_date = elem.select('.footer_ticket')[0].get_text()\n",
    "    \n",
    "    print(img_url)\n",
    "    print(brand, price, currency, mileage, f_type, t_type, pub_date, sep='|')\n",
    "    print()\n",
    "    "
   ]
  },
  {
   "cell_type": "code",
   "execution_count": null,
   "id": "hired-intranet",
   "metadata": {},
   "outputs": [],
   "source": []
  },
  {
   "cell_type": "code",
   "execution_count": 16,
   "id": "prospective-tucson",
   "metadata": {},
   "outputs": [
    {
     "data": {
      "text/plain": [
       "[]"
      ]
     },
     "execution_count": 16,
     "metadata": {},
     "output_type": "execute_result"
    }
   ],
   "source": [
    "# Detecting empty page\n",
    "not_found_url = 'https://auto.ria.com/uk/legkovie/?page=16866'\n",
    "nf_soup = get_soup(not_found_url)\n",
    "\n",
    "nf_soup.select('.content-bar')"
   ]
  },
  {
   "cell_type": "markdown",
   "id": "viral-episode",
   "metadata": {},
   "source": [
    "## Test image loading"
   ]
  },
  {
   "cell_type": "code",
   "execution_count": 17,
   "id": "deadly-church",
   "metadata": {},
   "outputs": [
    {
     "data": {
      "text/plain": [
       "'https://cdn2.riastatic.com/photosnew/auto/photo/nissan_x-trail__317144487bx.jpg'"
      ]
     },
     "execution_count": 17,
     "metadata": {},
     "output_type": "execute_result"
    }
   ],
   "source": [
    "image_url = soup.select('img[width=\"380\"]')[0].get('src')\n",
    "image_url"
   ]
  },
  {
   "cell_type": "code",
   "execution_count": 18,
   "id": "honest-clinton",
   "metadata": {
    "scrolled": true
   },
   "outputs": [],
   "source": [
    "!ls | grep *.jpg"
   ]
  },
  {
   "cell_type": "code",
   "execution_count": 19,
   "id": "organizational-solid",
   "metadata": {},
   "outputs": [],
   "source": [
    "img = Image.open(requests.get(image_url, stream=True).raw)\n",
    "image_path = os.path.basename(image_url)\n",
    "img.save(image_path)"
   ]
  },
  {
   "cell_type": "code",
   "execution_count": 20,
   "id": "adverse-behavior",
   "metadata": {
    "scrolled": true
   },
   "outputs": [
    {
     "name": "stdout",
     "output_type": "stream",
     "text": [
      "nissan_x-trail__317144487bx.jpg\n"
     ]
    }
   ],
   "source": [
    "!ls | grep *.jpg"
   ]
  },
  {
   "cell_type": "code",
   "execution_count": 21,
   "id": "colonial-folks",
   "metadata": {},
   "outputs": [],
   "source": [
    "os.remove(image_path)"
   ]
  },
  {
   "cell_type": "code",
   "execution_count": 22,
   "id": "mature-package",
   "metadata": {},
   "outputs": [],
   "source": [
    "assert image_path not in os.listdir()"
   ]
  },
  {
   "cell_type": "markdown",
   "id": "extra-canvas",
   "metadata": {},
   "source": [
    "## Design scraper and ...scrape )"
   ]
  },
  {
   "cell_type": "code",
   "execution_count": 23,
   "id": "unusual-volleyball",
   "metadata": {},
   "outputs": [],
   "source": [
    "def get_soup(url):\n",
    "    res = requests.get(url)\n",
    "    res.raise_for_status()\n",
    "    soup = bs4.BeautifulSoup(res.text, 'lxml')\n",
    "    return soup\n",
    "\n",
    "\n",
    "def download_image(image_url, image_id, upload_dir):\n",
    "    img = Image.open(requests.get(image_url, stream=True).raw)\n",
    "    image_name = f\"{image_id}_{os.path.basename(image_url)}\"\n",
    "    image_path = os.path.join(upload_dir, image_name)\n",
    "    img.save(image_path)\n",
    "\n",
    "    \n",
    "def autoria_scraper(dataset_dir):\n",
    "\n",
    "    cars_counter = 0\n",
    "    pages_counter = 0\n",
    "    blank_images = 0\n",
    "    empty_pages = 0\n",
    "    seperator = '|'\n",
    "    url = 'https://auto.ria.com/uk/legkovie/?page='\n",
    "    \n",
    "    with open(os.path.join(dataset_dir, 'autoria_data.csv'), 'w') as file:\n",
    "        columns = ['id', 'brand', 'price', 'currency', 'mileage', 'fuel_type', \n",
    "                   'transmission_type', 'pub_date']\n",
    "        file.write(seperator.join(columns) + '\\n')\n",
    "        \n",
    "        img_upload_dir = os.path.join(dataset_dir, 'images')\n",
    "        os.makedirs(img_upload_dir, exist_ok=True)\n",
    "        \n",
    "        for page_id in range(1, 16000):\n",
    "            \n",
    "            try:\n",
    "                time.sleep(0.1)\n",
    "                next_page_url = url + str(page_id)\n",
    "                soup = get_soup(next_page_url)\n",
    "                elements = soup.select('.content-bar')\n",
    "                \n",
    "                if not elements:\n",
    "                    empty_pages += 1\n",
    "                    continue\n",
    "\n",
    "                for elem in elements:\n",
    "                    img_url = elem.div.img.get('src')\n",
    "                    if img_url == blank_photo:\n",
    "                        blank_images += 1\n",
    "                        continue\n",
    "\n",
    "                    brand = elem.select('.address')[0].get_text().strip()\n",
    "                    price = elem.select('.price-ticket')[0].get('data-main-price')\n",
    "                    currency = elem.select('.price-ticket')[0].get('data-main-currency')\n",
    "                    mileage = elem.select('.definition-data li i[title=\"Пробіг\"]')[0].find_parent().get_text()\n",
    "                    f_type = elem.select('.definition-data li i[title=\"Тип палива\"]')[0].find_parent().get_text()\n",
    "                    t_type = elem.select('.definition-data li i[title=\"Тип коробки передач\"]')[0].find_parent().get_text()\n",
    "                    pub_date = elem.select('.footer_ticket')[0].get_text()\n",
    "\n",
    "\n",
    "                    download_image(img_url, cars_counter, img_upload_dir)\n",
    "                    row = seperator.join([str(cars_counter), brand, price, \n",
    "                                          currency, mileage, f_type, t_type, pub_date])\n",
    "                    file.write(row + '\\n')\n",
    "\n",
    "                    cars_counter += 1\n",
    "\n",
    "                pages_counter += 1\n",
    "\n",
    "                print(f\"Pages scraped: {pages_counter}   cars_loaded: {cars_counter}\", end='\\r')\n",
    "                \n",
    "            except:\n",
    "                pass\n",
    "        # duplicate print without end='\\r', to see final output\n",
    "        print(f\"Pages scraped: {pages_counter};   cars_loaded: {cars_counter}\")\n",
    "        print(f\"Empty pages: {empty_pages};   blank images: {blank_images}\")\n"
   ]
  },
  {
   "cell_type": "code",
   "execution_count": 24,
   "id": "smoking-miniature",
   "metadata": {},
   "outputs": [
    {
     "data": {
      "text/plain": [
       "True"
      ]
     },
     "execution_count": 24,
     "metadata": {},
     "output_type": "execute_result"
    }
   ],
   "source": [
    "\"\"\"\n",
    "Files structure:\n",
    "\n",
    "root\n",
    " |\n",
    "  - datasets\n",
    "     |\n",
    "      - autoria\n",
    "        |\n",
    "         - autoria_data.csv\n",
    "         - images\n",
    "  - scrapers\n",
    "    |\n",
    "     - autoria_scraper.ipynb (current location)\n",
    "\"\"\"\n",
    "\n",
    "cwd = Path(os.getcwd())\n",
    "dataset_dir = cwd.parent/'datasets'/'autoria'\n",
    "dataset_dir.exists()"
   ]
  },
  {
   "cell_type": "code",
   "execution_count": 222,
   "id": "widespread-letters",
   "metadata": {},
   "outputs": [
    {
     "name": "stdout",
     "output_type": "stream",
     "text": [
      "Pages scraped: 15511;   cars_loaded: 146814\n",
      "Empty pages: 14;   blank images: 337\n",
      "Time taken: 40958.705729 seconds\n"
     ]
    }
   ],
   "source": [
    "# Output after scraping 16000* pages:\n",
    "\n",
    "# Pages scraped: 15511;   cars_loaded: 146814\n",
    "# Empty pages: 14;   blank images: 337\n",
    "# Time taken: 40958.705729 seconds\n",
    "\n",
    "\n",
    "# Uncomment lines below to start scraping\n",
    "\n",
    "# start = time.perf_counter()\n",
    "# autoria_scraper(dataset_dir)\n",
    "# stop = time.perf_counter()\n",
    "\n",
    "print(f\"Time taken: {stop - start} seconds\")"
   ]
  },
  {
   "cell_type": "markdown",
   "id": "nonprofit-butterfly",
   "metadata": {},
   "source": [
    "## Quick check of scraped data"
   ]
  },
  {
   "cell_type": "code",
   "execution_count": 25,
   "id": "located-zimbabwe",
   "metadata": {},
   "outputs": [
    {
     "data": {
      "text/plain": [
       "True"
      ]
     },
     "execution_count": 25,
     "metadata": {},
     "output_type": "execute_result"
    }
   ],
   "source": [
    "data_csv = dataset_dir/'autoria_data.csv'\n",
    "data_csv.exists()"
   ]
  },
  {
   "cell_type": "code",
   "execution_count": 26,
   "id": "going-anatomy",
   "metadata": {},
   "outputs": [
    {
     "name": "stdout",
     "output_type": "stream",
     "text": [
      "<class 'pandas.core.frame.DataFrame'>\n",
      "RangeIndex: 146814 entries, 0 to 146813\n",
      "Data columns (total 8 columns):\n",
      " #   Column             Non-Null Count   Dtype \n",
      "---  ------             --------------   ----- \n",
      " 0   id                 146814 non-null  int64 \n",
      " 1   brand              146814 non-null  object\n",
      " 2   price              146814 non-null  int64 \n",
      " 3   currency           146814 non-null  object\n",
      " 4   mileage            146814 non-null  object\n",
      " 5   fuel_type          146814 non-null  object\n",
      " 6   transmission_type  146814 non-null  object\n",
      " 7   pub_date           146814 non-null  object\n",
      "dtypes: int64(2), object(6)\n",
      "memory usage: 9.0+ MB\n"
     ]
    }
   ],
   "source": [
    "df = pd.read_csv(data_csv, sep='|')\n",
    "df.info()"
   ]
  },
  {
   "cell_type": "code",
   "execution_count": null,
   "id": "indian-conservative",
   "metadata": {},
   "outputs": [],
   "source": []
  }
 ],
 "metadata": {
  "kernelspec": {
   "display_name": "Python 3",
   "language": "python",
   "name": "python3"
  },
  "language_info": {
   "codemirror_mode": {
    "name": "ipython",
    "version": 3
   },
   "file_extension": ".py",
   "mimetype": "text/x-python",
   "name": "python",
   "nbconvert_exporter": "python",
   "pygments_lexer": "ipython3",
   "version": "3.8.5"
  },
  "varInspector": {
   "cols": {
    "lenName": 16,
    "lenType": 16,
    "lenVar": 40
   },
   "kernels_config": {
    "python": {
     "delete_cmd_postfix": "",
     "delete_cmd_prefix": "del ",
     "library": "var_list.py",
     "varRefreshCmd": "print(var_dic_list())"
    },
    "r": {
     "delete_cmd_postfix": ") ",
     "delete_cmd_prefix": "rm(",
     "library": "var_list.r",
     "varRefreshCmd": "cat(var_dic_list()) "
    }
   },
   "position": {
    "height": "355.85px",
    "left": "1390px",
    "right": "20px",
    "top": "120px",
    "width": "350px"
   },
   "types_to_exclude": [
    "module",
    "function",
    "builtin_function_or_method",
    "instance",
    "_Feature"
   ],
   "window_display": false
  }
 },
 "nbformat": 4,
 "nbformat_minor": 5
}
