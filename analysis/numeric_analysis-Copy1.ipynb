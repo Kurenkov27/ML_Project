{
 "cells": [
  {
   "cell_type": "code",
   "execution_count": 1,
   "id": "3eb6eb80",
   "metadata": {},
   "outputs": [],
   "source": [
    "import os\n",
    "import pandas as pd\n",
    "import numpy as np\n",
    "import tensorflow as tf\n",
    "import tensorflow.keras as keras\n",
    "from tensorflow.keras import layers\n",
    "from tensorflow.keras.layers.experimental import preprocessing"
   ]
  },
  {
   "cell_type": "code",
   "execution_count": 2,
   "id": "3a396550",
   "metadata": {},
   "outputs": [],
   "source": [
    "df = pd.read_csv('../datasets/autoria/autoria_clean_data.csv')"
   ]
  },
  {
   "cell_type": "code",
   "execution_count": 3,
   "id": "a2987f79",
   "metadata": {},
   "outputs": [
    {
     "data": {
      "text/html": [
       "<div>\n",
       "<style scoped>\n",
       "    .dataframe tbody tr th:only-of-type {\n",
       "        vertical-align: middle;\n",
       "    }\n",
       "\n",
       "    .dataframe tbody tr th {\n",
       "        vertical-align: top;\n",
       "    }\n",
       "\n",
       "    .dataframe thead th {\n",
       "        text-align: right;\n",
       "    }\n",
       "</style>\n",
       "<table border=\"1\" class=\"dataframe\">\n",
       "  <thead>\n",
       "    <tr style=\"text-align: right;\">\n",
       "      <th></th>\n",
       "      <th>id</th>\n",
       "      <th>brand</th>\n",
       "      <th>price_USD</th>\n",
       "      <th>mileage_kkm</th>\n",
       "      <th>fuel_type</th>\n",
       "      <th>transmission_type</th>\n",
       "      <th>pub_date</th>\n",
       "      <th>year_made</th>\n",
       "      <th>model</th>\n",
       "      <th>engine_size</th>\n",
       "    </tr>\n",
       "  </thead>\n",
       "  <tbody>\n",
       "    <tr>\n",
       "      <th>0</th>\n",
       "      <td>0</td>\n",
       "      <td>Mercedes-Benz</td>\n",
       "      <td>8999</td>\n",
       "      <td>159</td>\n",
       "      <td>gas/petrol</td>\n",
       "      <td>automatic</td>\n",
       "      <td>2021-05-21</td>\n",
       "      <td>2007</td>\n",
       "      <td>E 280 4MATIC AT CLASSIC</td>\n",
       "      <td>3.0</td>\n",
       "    </tr>\n",
       "    <tr>\n",
       "      <th>1</th>\n",
       "      <td>1</td>\n",
       "      <td>Mercedes-Benz</td>\n",
       "      <td>79900</td>\n",
       "      <td>103</td>\n",
       "      <td>diesel</td>\n",
       "      <td>automatic</td>\n",
       "      <td>2021-05-15</td>\n",
       "      <td>2015</td>\n",
       "      <td>G 350 Designo</td>\n",
       "      <td>3.0</td>\n",
       "    </tr>\n",
       "    <tr>\n",
       "      <th>2</th>\n",
       "      <td>2</td>\n",
       "      <td>BMW</td>\n",
       "      <td>15999</td>\n",
       "      <td>145</td>\n",
       "      <td>petrol</td>\n",
       "      <td>automatic</td>\n",
       "      <td>2021-04-18</td>\n",
       "      <td>2010</td>\n",
       "      <td>550</td>\n",
       "      <td>4.4</td>\n",
       "    </tr>\n",
       "    <tr>\n",
       "      <th>3</th>\n",
       "      <td>3</td>\n",
       "      <td>MINI</td>\n",
       "      <td>10200</td>\n",
       "      <td>111</td>\n",
       "      <td>petrol</td>\n",
       "      <td>automatic</td>\n",
       "      <td>2021-05-21</td>\n",
       "      <td>2014</td>\n",
       "      <td>Countryman S</td>\n",
       "      <td>1.6</td>\n",
       "    </tr>\n",
       "    <tr>\n",
       "      <th>4</th>\n",
       "      <td>4</td>\n",
       "      <td>Nissan</td>\n",
       "      <td>13900</td>\n",
       "      <td>97</td>\n",
       "      <td>petrol</td>\n",
       "      <td>automatic</td>\n",
       "      <td>2021-05-19</td>\n",
       "      <td>2010</td>\n",
       "      <td>X-Trail</td>\n",
       "      <td>2.0</td>\n",
       "    </tr>\n",
       "  </tbody>\n",
       "</table>\n",
       "</div>"
      ],
      "text/plain": [
       "   id          brand  price_USD  mileage_kkm   fuel_type transmission_type  \\\n",
       "0   0  Mercedes-Benz       8999          159  gas/petrol         automatic   \n",
       "1   1  Mercedes-Benz      79900          103      diesel         automatic   \n",
       "2   2            BMW      15999          145      petrol         automatic   \n",
       "3   3           MINI      10200          111      petrol         automatic   \n",
       "4   4         Nissan      13900           97      petrol         automatic   \n",
       "\n",
       "     pub_date  year_made                    model  engine_size  \n",
       "0  2021-05-21       2007  E 280 4MATIC AT CLASSIC          3.0  \n",
       "1  2021-05-15       2015            G 350 Designo          3.0  \n",
       "2  2021-04-18       2010                      550          4.4  \n",
       "3  2021-05-21       2014             Countryman S          1.6  \n",
       "4  2021-05-19       2010                  X-Trail          2.0  "
      ]
     },
     "execution_count": 3,
     "metadata": {},
     "output_type": "execute_result"
    }
   ],
   "source": [
    "df.head()"
   ]
  },
  {
   "cell_type": "code",
   "execution_count": 4,
   "id": "8f83ba54",
   "metadata": {},
   "outputs": [],
   "source": [
    "orig_df = df.copy()\n",
    "\n",
    "# Selecting features and labels\n",
    "X_features = orig_df[['mileage_kkm', 'year_made', 'engine_size']].head(400)\n",
    "Y_labels = orig_df.pop('price_USD').head(400)\n",
    "\n",
    "\n",
    "#X_features = np.array(X_features)\n",
    "#X_features"
   ]
  },
  {
   "cell_type": "code",
   "execution_count": 5,
   "id": "4e23b297",
   "metadata": {},
   "outputs": [
    {
     "data": {
      "text/plain": [
       "<KerasTensor: shape=(None,) dtype=float32 (created by layer 'tf.__operators__.add')>"
      ]
     },
     "execution_count": 5,
     "metadata": {},
     "output_type": "execute_result"
    }
   ],
   "source": [
    "# Create a symbolic input\n",
    "input = tf.keras.Input(shape=(), dtype=tf.float32)\n",
    "\n",
    "# Do a calculation using is\n",
    "result = 2*input + 1\n",
    "\n",
    "# the result doesn't have a value\n",
    "result"
   ]
  },
  {
   "cell_type": "code",
   "execution_count": 6,
   "id": "6af5a937",
   "metadata": {},
   "outputs": [],
   "source": [
    "calc = tf.keras.Model(inputs=input, outputs=result)"
   ]
  },
  {
   "cell_type": "code",
   "execution_count": 7,
   "id": "a7182b9f",
   "metadata": {},
   "outputs": [
    {
     "name": "stdout",
     "output_type": "stream",
     "text": [
      "3.0\n",
      "5.0\n"
     ]
    }
   ],
   "source": [
    "print(calc(1).numpy())\n",
    "print(calc(2).numpy())"
   ]
  },
  {
   "cell_type": "code",
   "execution_count": 8,
   "id": "9bdf9bdf",
   "metadata": {},
   "outputs": [
    {
     "data": {
      "text/plain": [
       "{'mileage_kkm': <KerasTensor: shape=(None, 1) dtype=float32 (created by layer 'mileage_kkm')>,\n",
       " 'year_made': <KerasTensor: shape=(None, 1) dtype=float32 (created by layer 'year_made')>,\n",
       " 'engine_size': <KerasTensor: shape=(None, 1) dtype=float32 (created by layer 'engine_size')>}"
      ]
     },
     "execution_count": 8,
     "metadata": {},
     "output_type": "execute_result"
    }
   ],
   "source": [
    "inputs = {}\n",
    "\n",
    "for name, column in X_features.items():\n",
    "  dtype = column.dtype\n",
    "  if dtype == object:\n",
    "    dtype = tf.string\n",
    "  else:\n",
    "    dtype = tf.float32\n",
    "\n",
    "  inputs[name] = tf.keras.Input(shape=(1,), name=name, dtype=dtype)\n",
    "\n",
    "inputs"
   ]
  },
  {
   "cell_type": "code",
   "execution_count": 9,
   "id": "5b0ebf16",
   "metadata": {},
   "outputs": [
    {
     "data": {
      "text/plain": [
       "<KerasTensor: shape=(None, 3) dtype=float32 (created by layer 'normalization')>"
      ]
     },
     "execution_count": 9,
     "metadata": {},
     "output_type": "execute_result"
    }
   ],
   "source": [
    "numeric_inputs = {name:input for name,input in inputs.items()\n",
    "                  if input.dtype==tf.float32}\n",
    "\n",
    "x = layers.Concatenate()(list(numeric_inputs.values()))\n",
    "norm = preprocessing.Normalization()\n",
    "norm.adapt(np.array(orig_df[numeric_inputs.keys()]))\n",
    "all_numeric_inputs = norm(x)\n",
    "\n",
    "all_numeric_inputs"
   ]
  },
  {
   "cell_type": "code",
   "execution_count": 10,
   "id": "3ec53430",
   "metadata": {},
   "outputs": [],
   "source": [
    "preprocessed_inputs = [all_numeric_inputs]"
   ]
  },
  {
   "cell_type": "code",
   "execution_count": 11,
   "id": "f5b9bdd7",
   "metadata": {},
   "outputs": [],
   "source": [
    "for name, input in inputs.items():\n",
    "  if input.dtype == tf.float32:\n",
    "    continue\n",
    "\n",
    "  lookup = preprocessing.StringLookup(vocabulary=np.unique(X_features[name]))\n",
    "  one_hot = preprocessing.CategoryEncoding(max_tokens=lookup.vocab_size())\n",
    "\n",
    "  x = lookup(input)\n",
    "  x = one_hot(x)\n",
    "  preprocessed_inputs.append(x)"
   ]
  },
  {
   "cell_type": "code",
   "execution_count": 12,
   "id": "d7cc5f82",
   "metadata": {},
   "outputs": [
    {
     "name": "stdout",
     "output_type": "stream",
     "text": [
      "('Failed to import pydot. You must `pip install pydot` and install graphviz (https://graphviz.gitlab.io/download/), ', 'for `pydotprint` to work.')\n"
     ]
    }
   ],
   "source": [
    "preprocessing = tf.keras.Model(inputs, preprocessed_inputs)\n",
    "\n",
    "tf.keras.utils.plot_model(model = preprocessing , rankdir=\"LR\", dpi=72, show_shapes=True)"
   ]
  },
  {
   "cell_type": "code",
   "execution_count": 13,
   "id": "33c5386e",
   "metadata": {},
   "outputs": [],
   "source": [
    "model_features_dict = {name: np.array(value) \n",
    "                         for name, value in X_features.items()}"
   ]
  },
  {
   "cell_type": "code",
   "execution_count": 14,
   "id": "7d6d1a2d",
   "metadata": {},
   "outputs": [
    {
     "data": {
      "text/plain": [
       "<tf.Tensor: shape=(1, 3), dtype=float32, numpy=array([[-2.2400647e-01, -1.7184177e-01,  3.0000000e+07]], dtype=float32)>"
      ]
     },
     "execution_count": 14,
     "metadata": {},
     "output_type": "execute_result"
    }
   ],
   "source": [
    "features_dict = {name:values[:1] for name, values in model_features_dict.items()}\n",
    "preprocessing(features_dict)"
   ]
  },
  {
   "cell_type": "code",
   "execution_count": 16,
   "id": "ef22f910",
   "metadata": {},
   "outputs": [],
   "source": [
    "def prediction_model(preprocessing_head, inputs):\n",
    "  body = tf.keras.Sequential([\n",
    "    layers.Dense(64),\n",
    "    layers.Dense(1)\n",
    "  ])\n",
    "\n",
    "  preprocessed_inputs = preprocessing_head(inputs)\n",
    "  result = body(preprocessed_inputs)\n",
    "  model = tf.keras.Model(inputs, result)\n",
    "\n",
    "  model.compile(loss=tf.losses.BinaryCrossentropy(from_logits=True),\n",
    "                optimizer=tf.optimizers.Adam())\n",
    "  return model\n",
    "\n",
    "model = prediction_model(preprocessing, inputs)"
   ]
  },
  {
   "cell_type": "code",
   "execution_count": 17,
   "id": "606302fc",
   "metadata": {},
   "outputs": [
    {
     "name": "stdout",
     "output_type": "stream",
     "text": [
      "Epoch 1/10\n",
      "13/13 [==============================] - 0s 668us/step - loss: nan         \n",
      "Epoch 2/10\n",
      "13/13 [==============================] - 0s 591us/step - loss: nan\n",
      "Epoch 3/10\n",
      "13/13 [==============================] - 0s 515us/step - loss: nan\n",
      "Epoch 4/10\n",
      "13/13 [==============================] - 0s 503us/step - loss: nan\n",
      "Epoch 5/10\n",
      "13/13 [==============================] - 0s 505us/step - loss: nan\n",
      "Epoch 6/10\n",
      "13/13 [==============================] - 0s 483us/step - loss: nan\n",
      "Epoch 7/10\n",
      "13/13 [==============================] - 0s 515us/step - loss: nan\n",
      "Epoch 8/10\n",
      "13/13 [==============================] - 0s 490us/step - loss: nan\n",
      "Epoch 9/10\n",
      "13/13 [==============================] - 0s 553us/step - loss: nan\n",
      "Epoch 10/10\n",
      "13/13 [==============================] - 0s 599us/step - loss: nan\n"
     ]
    },
    {
     "data": {
      "text/plain": [
       "<tensorflow.python.keras.callbacks.History at 0x7f73f84d7a90>"
      ]
     },
     "execution_count": 17,
     "metadata": {},
     "output_type": "execute_result"
    }
   ],
   "source": [
    "model.fit(x=model_features_dict, y=Y_labels, epochs=10)"
   ]
  },
  {
   "cell_type": "code",
   "execution_count": null,
   "id": "3c726475",
   "metadata": {},
   "outputs": [],
   "source": []
  }
 ],
 "metadata": {
  "kernelspec": {
   "display_name": "Python 3",
   "language": "python",
   "name": "python3"
  },
  "language_info": {
   "codemirror_mode": {
    "name": "ipython",
    "version": 3
   },
   "file_extension": ".py",
   "mimetype": "text/x-python",
   "name": "python",
   "nbconvert_exporter": "python",
   "pygments_lexer": "ipython3",
   "version": "3.6.9"
  },
  "varInspector": {
   "cols": {
    "lenName": 16,
    "lenType": 16,
    "lenVar": 40
   },
   "kernels_config": {
    "python": {
     "delete_cmd_postfix": "",
     "delete_cmd_prefix": "del ",
     "library": "var_list.py",
     "varRefreshCmd": "print(var_dic_list())"
    },
    "r": {
     "delete_cmd_postfix": ") ",
     "delete_cmd_prefix": "rm(",
     "library": "var_list.r",
     "varRefreshCmd": "cat(var_dic_list()) "
    }
   },
   "types_to_exclude": [
    "module",
    "function",
    "builtin_function_or_method",
    "instance",
    "_Feature"
   ],
   "window_display": false
  }
 },
 "nbformat": 4,
 "nbformat_minor": 5
}
