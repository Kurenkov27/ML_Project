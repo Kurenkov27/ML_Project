{
 "cells": [
  {
   "cell_type": "markdown",
   "id": "compound-clinton",
   "metadata": {},
   "source": [
    "# Auto.ria data cleaning\n"
   ]
  },
  {
   "cell_type": "code",
   "execution_count": 1,
   "id": "forward-secretary",
   "metadata": {},
   "outputs": [],
   "source": [
    "import os\n",
    "import pandas as pd\n",
    "import numpy as np\n",
    "\n",
    "from pathlib import Path"
   ]
  },
  {
   "cell_type": "code",
   "execution_count": 2,
   "id": "round-curtis",
   "metadata": {},
   "outputs": [
    {
     "data": {
      "text/plain": [
       "True"
      ]
     },
     "execution_count": 2,
     "metadata": {},
     "output_type": "execute_result"
    }
   ],
   "source": [
    "cwd = Path(os.getcwd())\n",
    "data_path = cwd.parent/'datasets/autoria/autoria_data.csv'\n",
    "data_path.exists()"
   ]
  },
  {
   "cell_type": "code",
   "execution_count": 3,
   "id": "funded-newark",
   "metadata": {},
   "outputs": [
    {
     "name": "stdout",
     "output_type": "stream",
     "text": [
      "<class 'pandas.core.frame.DataFrame'>\n",
      "RangeIndex: 146814 entries, 0 to 146813\n",
      "Data columns (total 8 columns):\n",
      " #   Column             Non-Null Count   Dtype \n",
      "---  ------             --------------   ----- \n",
      " 0   id                 146814 non-null  int64 \n",
      " 1   brand              146814 non-null  object\n",
      " 2   price              146814 non-null  int64 \n",
      " 3   currency           146814 non-null  object\n",
      " 4   mileage            146814 non-null  object\n",
      " 5   fuel_type          146814 non-null  object\n",
      " 6   transmission_type  146814 non-null  object\n",
      " 7   pub_date           146814 non-null  object\n",
      "dtypes: int64(2), object(6)\n",
      "memory usage: 9.0+ MB\n"
     ]
    }
   ],
   "source": [
    "df = pd.read_csv(data_path, sep='|', encoding='cp1251')\n",
    "df.info()"
   ]
  },
  {
   "cell_type": "code",
   "execution_count": 4,
   "id": "adapted-oliver",
   "metadata": {},
   "outputs": [
    {
     "data": {
      "text/html": [
       "<div>\n",
       "<style scoped>\n",
       "    .dataframe tbody tr th:only-of-type {\n",
       "        vertical-align: middle;\n",
       "    }\n",
       "\n",
       "    .dataframe tbody tr th {\n",
       "        vertical-align: top;\n",
       "    }\n",
       "\n",
       "    .dataframe thead th {\n",
       "        text-align: right;\n",
       "    }\n",
       "</style>\n",
       "<table border=\"1\" class=\"dataframe\">\n",
       "  <thead>\n",
       "    <tr style=\"text-align: right;\">\n",
       "      <th></th>\n",
       "      <th>id</th>\n",
       "      <th>brand</th>\n",
       "      <th>price</th>\n",
       "      <th>currency</th>\n",
       "      <th>mileage</th>\n",
       "      <th>fuel_type</th>\n",
       "      <th>transmission_type</th>\n",
       "      <th>pub_date</th>\n",
       "    </tr>\n",
       "  </thead>\n",
       "  <tbody>\n",
       "    <tr>\n",
       "      <th>0</th>\n",
       "      <td>0</td>\n",
       "      <td>Mercedes-Benz E 280 4MATIC AT CLASSIC 2007</td>\n",
       "      <td>8999</td>\n",
       "      <td>USD</td>\n",
       "      <td>159 тис. км</td>\n",
       "      <td>Газ / Бензин, 3 л.</td>\n",
       "      <td>Автомат</td>\n",
       "      <td>21.05.2021</td>\n",
       "    </tr>\n",
       "    <tr>\n",
       "      <th>1</th>\n",
       "      <td>1</td>\n",
       "      <td>Mercedes-Benz G 350 Designo 2015</td>\n",
       "      <td>79900</td>\n",
       "      <td>USD</td>\n",
       "      <td>103 тис. км</td>\n",
       "      <td>Дизель, 3 л.</td>\n",
       "      <td>Автомат</td>\n",
       "      <td>15.05.2021</td>\n",
       "    </tr>\n",
       "    <tr>\n",
       "      <th>2</th>\n",
       "      <td>2</td>\n",
       "      <td>BMW 550  2010</td>\n",
       "      <td>15999</td>\n",
       "      <td>USD</td>\n",
       "      <td>145 тис. км</td>\n",
       "      <td>Бензин, 4.4 л.</td>\n",
       "      <td>Автомат</td>\n",
       "      <td>18.04.2021</td>\n",
       "    </tr>\n",
       "    <tr>\n",
       "      <th>3</th>\n",
       "      <td>3</td>\n",
       "      <td>MINI Countryman S 2014</td>\n",
       "      <td>10200</td>\n",
       "      <td>USD</td>\n",
       "      <td>111 тис. км</td>\n",
       "      <td>Бензин, 1.6 л.</td>\n",
       "      <td>Автомат</td>\n",
       "      <td>сьогодні о 12:00</td>\n",
       "    </tr>\n",
       "    <tr>\n",
       "      <th>4</th>\n",
       "      <td>4</td>\n",
       "      <td>Nissan X-Trail  2010</td>\n",
       "      <td>13900</td>\n",
       "      <td>USD</td>\n",
       "      <td>97 тис. км</td>\n",
       "      <td>Бензин, 2 л.</td>\n",
       "      <td>Автомат</td>\n",
       "      <td>19.05.2021</td>\n",
       "    </tr>\n",
       "  </tbody>\n",
       "</table>\n",
       "</div>"
      ],
      "text/plain": [
       "   id                                       brand  price currency  \\\n",
       "0   0  Mercedes-Benz E 280 4MATIC AT CLASSIC 2007   8999      USD   \n",
       "1   1            Mercedes-Benz G 350 Designo 2015  79900      USD   \n",
       "2   2                               BMW 550  2010  15999      USD   \n",
       "3   3                      MINI Countryman S 2014  10200      USD   \n",
       "4   4                        Nissan X-Trail  2010  13900      USD   \n",
       "\n",
       "         mileage             fuel_type transmission_type  \\\n",
       "0   159 тис. км    Газ / Бензин, 3 л.           Автомат    \n",
       "1   103 тис. км          Дизель, 3 л.           Автомат    \n",
       "2   145 тис. км        Бензин, 4.4 л.           Автомат    \n",
       "3   111 тис. км        Бензин, 1.6 л.           Автомат    \n",
       "4    97 тис. км          Бензин, 2 л.           Автомат    \n",
       "\n",
       "                         pub_date  \n",
       "0            21.05.2021            \n",
       "1            15.05.2021            \n",
       "2            18.04.2021            \n",
       "3     сьогодні о 12:00             \n",
       "4            19.05.2021            "
      ]
     },
     "execution_count": 4,
     "metadata": {},
     "output_type": "execute_result"
    }
   ],
   "source": [
    "df.head()"
   ]
  },
  {
   "cell_type": "markdown",
   "id": "prepared-bishop",
   "metadata": {},
   "source": [
    "### brand column"
   ]
  },
  {
   "cell_type": "markdown",
   "id": "civilian-cattle",
   "metadata": {},
   "source": [
    "It seems like `brand` column can be split into 3:<br> \n",
    "`brand` - first part,<br> \n",
    "`car model` - everithing between first and last parts and<br> \n",
    "`year made` - the last part."
   ]
  },
  {
   "cell_type": "code",
   "execution_count": 5,
   "id": "posted-christopher",
   "metadata": {},
   "outputs": [
    {
     "data": {
      "text/plain": [
       "0         [Mercedes-Benz, E, 280, 4MATIC, AT, CLASSIC, 2...\n",
       "1                    [Mercedes-Benz, G, 350, Designo, 2015]\n",
       "2                                          [BMW, 550, 2010]\n",
       "3                               [MINI, Countryman, S, 2014]\n",
       "4                                   [Nissan, X-Trail, 2010]\n",
       "                                ...                        \n",
       "146809                       [Renault, Kangoo, пасс., 2008]\n",
       "146810                             [Audi, 80, 1.8, S, 1988]\n",
       "146811                                [BMW, 520, F10, 2011]\n",
       "146812                                    [ВАЗ, 1118, 2006]\n",
       "146813                                [Nissan, Rogue, 2017]\n",
       "Name: brand, Length: 146814, dtype: object"
      ]
     },
     "execution_count": 5,
     "metadata": {},
     "output_type": "execute_result"
    }
   ],
   "source": [
    "df['brand'].str.split()"
   ]
  },
  {
   "cell_type": "code",
   "execution_count": 6,
   "id": "black-kuwait",
   "metadata": {},
   "outputs": [
    {
     "data": {
      "text/plain": [
       "0    2007\n",
       "1    2015\n",
       "2    2010\n",
       "3    2014\n",
       "4    2010\n",
       "Name: brand, dtype: object"
      ]
     },
     "execution_count": 6,
     "metadata": {},
     "output_type": "execute_result"
    }
   ],
   "source": [
    "year_made = df['brand'].str.split().str[-1]\n",
    "year_made.head()"
   ]
  },
  {
   "cell_type": "code",
   "execution_count": 7,
   "id": "forty-investing",
   "metadata": {},
   "outputs": [
    {
     "data": {
      "text/plain": [
       "count    146814.000000\n",
       "mean       2008.295994\n",
       "std           7.541967\n",
       "min        1900.000000\n",
       "25%        2005.000000\n",
       "50%        2009.000000\n",
       "75%        2013.000000\n",
       "max        2021.000000\n",
       "Name: brand, dtype: float64"
      ]
     },
     "execution_count": 7,
     "metadata": {},
     "output_type": "execute_result"
    }
   ],
   "source": [
    "pd.to_numeric(year_made).describe()"
   ]
  },
  {
   "cell_type": "code",
   "execution_count": 8,
   "id": "bright-perspective",
   "metadata": {},
   "outputs": [
    {
     "data": {
      "text/html": [
       "<div>\n",
       "<style scoped>\n",
       "    .dataframe tbody tr th:only-of-type {\n",
       "        vertical-align: middle;\n",
       "    }\n",
       "\n",
       "    .dataframe tbody tr th {\n",
       "        vertical-align: top;\n",
       "    }\n",
       "\n",
       "    .dataframe thead th {\n",
       "        text-align: right;\n",
       "    }\n",
       "</style>\n",
       "<table border=\"1\" class=\"dataframe\">\n",
       "  <thead>\n",
       "    <tr style=\"text-align: right;\">\n",
       "      <th></th>\n",
       "      <th>id</th>\n",
       "      <th>brand</th>\n",
       "      <th>price</th>\n",
       "      <th>currency</th>\n",
       "      <th>mileage</th>\n",
       "      <th>fuel_type</th>\n",
       "      <th>transmission_type</th>\n",
       "      <th>pub_date</th>\n",
       "      <th>year_made</th>\n",
       "    </tr>\n",
       "  </thead>\n",
       "  <tbody>\n",
       "    <tr>\n",
       "      <th>0</th>\n",
       "      <td>0</td>\n",
       "      <td>Mercedes-Benz E 280 4MATIC AT CLASSIC 2007</td>\n",
       "      <td>8999</td>\n",
       "      <td>USD</td>\n",
       "      <td>159 тис. км</td>\n",
       "      <td>Газ / Бензин, 3 л.</td>\n",
       "      <td>Автомат</td>\n",
       "      <td>21.05.2021</td>\n",
       "      <td>2007</td>\n",
       "    </tr>\n",
       "    <tr>\n",
       "      <th>1</th>\n",
       "      <td>1</td>\n",
       "      <td>Mercedes-Benz G 350 Designo 2015</td>\n",
       "      <td>79900</td>\n",
       "      <td>USD</td>\n",
       "      <td>103 тис. км</td>\n",
       "      <td>Дизель, 3 л.</td>\n",
       "      <td>Автомат</td>\n",
       "      <td>15.05.2021</td>\n",
       "      <td>2015</td>\n",
       "    </tr>\n",
       "    <tr>\n",
       "      <th>2</th>\n",
       "      <td>2</td>\n",
       "      <td>BMW 550  2010</td>\n",
       "      <td>15999</td>\n",
       "      <td>USD</td>\n",
       "      <td>145 тис. км</td>\n",
       "      <td>Бензин, 4.4 л.</td>\n",
       "      <td>Автомат</td>\n",
       "      <td>18.04.2021</td>\n",
       "      <td>2010</td>\n",
       "    </tr>\n",
       "  </tbody>\n",
       "</table>\n",
       "</div>"
      ],
      "text/plain": [
       "   id                                       brand  price currency  \\\n",
       "0   0  Mercedes-Benz E 280 4MATIC AT CLASSIC 2007   8999      USD   \n",
       "1   1            Mercedes-Benz G 350 Designo 2015  79900      USD   \n",
       "2   2                               BMW 550  2010  15999      USD   \n",
       "\n",
       "         mileage             fuel_type transmission_type  \\\n",
       "0   159 тис. км    Газ / Бензин, 3 л.           Автомат    \n",
       "1   103 тис. км          Дизель, 3 л.           Автомат    \n",
       "2   145 тис. км        Бензин, 4.4 л.           Автомат    \n",
       "\n",
       "                  pub_date  year_made  \n",
       "0     21.05.2021                 2007  \n",
       "1     15.05.2021                 2015  \n",
       "2     18.04.2021                 2010  "
      ]
     },
     "execution_count": 8,
     "metadata": {},
     "output_type": "execute_result"
    }
   ],
   "source": [
    "df[\"year_made\"] = pd.to_numeric(year_made)\n",
    "df.head(3)"
   ]
  },
  {
   "cell_type": "code",
   "execution_count": 9,
   "id": "departmental-accordance",
   "metadata": {},
   "outputs": [
    {
     "data": {
      "text/html": [
       "<div>\n",
       "<style scoped>\n",
       "    .dataframe tbody tr th:only-of-type {\n",
       "        vertical-align: middle;\n",
       "    }\n",
       "\n",
       "    .dataframe tbody tr th {\n",
       "        vertical-align: top;\n",
       "    }\n",
       "\n",
       "    .dataframe thead th {\n",
       "        text-align: right;\n",
       "    }\n",
       "</style>\n",
       "<table border=\"1\" class=\"dataframe\">\n",
       "  <thead>\n",
       "    <tr style=\"text-align: right;\">\n",
       "      <th></th>\n",
       "      <th>id</th>\n",
       "      <th>brand</th>\n",
       "      <th>price</th>\n",
       "      <th>currency</th>\n",
       "      <th>mileage</th>\n",
       "      <th>fuel_type</th>\n",
       "      <th>transmission_type</th>\n",
       "      <th>pub_date</th>\n",
       "      <th>year_made</th>\n",
       "    </tr>\n",
       "  </thead>\n",
       "  <tbody>\n",
       "    <tr>\n",
       "      <th>0</th>\n",
       "      <td>0</td>\n",
       "      <td>Mercedes-Benz E 280 4MATIC AT CLASSIC</td>\n",
       "      <td>8999</td>\n",
       "      <td>USD</td>\n",
       "      <td>159 тис. км</td>\n",
       "      <td>Газ / Бензин, 3 л.</td>\n",
       "      <td>Автомат</td>\n",
       "      <td>21.05.2021</td>\n",
       "      <td>2007</td>\n",
       "    </tr>\n",
       "    <tr>\n",
       "      <th>1</th>\n",
       "      <td>1</td>\n",
       "      <td>Mercedes-Benz G 350 Designo</td>\n",
       "      <td>79900</td>\n",
       "      <td>USD</td>\n",
       "      <td>103 тис. км</td>\n",
       "      <td>Дизель, 3 л.</td>\n",
       "      <td>Автомат</td>\n",
       "      <td>15.05.2021</td>\n",
       "      <td>2015</td>\n",
       "    </tr>\n",
       "    <tr>\n",
       "      <th>2</th>\n",
       "      <td>2</td>\n",
       "      <td>BMW 550</td>\n",
       "      <td>15999</td>\n",
       "      <td>USD</td>\n",
       "      <td>145 тис. км</td>\n",
       "      <td>Бензин, 4.4 л.</td>\n",
       "      <td>Автомат</td>\n",
       "      <td>18.04.2021</td>\n",
       "      <td>2010</td>\n",
       "    </tr>\n",
       "  </tbody>\n",
       "</table>\n",
       "</div>"
      ],
      "text/plain": [
       "   id                                  brand  price currency        mileage  \\\n",
       "0   0  Mercedes-Benz E 280 4MATIC AT CLASSIC   8999      USD   159 тис. км    \n",
       "1   1            Mercedes-Benz G 350 Designo  79900      USD   103 тис. км    \n",
       "2   2                                BMW 550  15999      USD   145 тис. км    \n",
       "\n",
       "              fuel_type transmission_type                 pub_date  year_made  \n",
       "0   Газ / Бензин, 3 л.           Автомат      21.05.2021                 2007  \n",
       "1         Дизель, 3 л.           Автомат      15.05.2021                 2015  \n",
       "2       Бензин, 4.4 л.           Автомат      18.04.2021                 2010  "
      ]
     },
     "execution_count": 9,
     "metadata": {},
     "output_type": "execute_result"
    }
   ],
   "source": [
    "# Remove year from the brand column\n",
    "df[\"brand\"] = df.brand.str.rsplit(n=1).str.get(0)\n",
    "df.head(3)"
   ]
  },
  {
   "cell_type": "code",
   "execution_count": 10,
   "id": "authentic-cheat",
   "metadata": {},
   "outputs": [
    {
     "data": {
      "text/html": [
       "<div>\n",
       "<style scoped>\n",
       "    .dataframe tbody tr th:only-of-type {\n",
       "        vertical-align: middle;\n",
       "    }\n",
       "\n",
       "    .dataframe tbody tr th {\n",
       "        vertical-align: top;\n",
       "    }\n",
       "\n",
       "    .dataframe thead th {\n",
       "        text-align: right;\n",
       "    }\n",
       "</style>\n",
       "<table border=\"1\" class=\"dataframe\">\n",
       "  <thead>\n",
       "    <tr style=\"text-align: right;\">\n",
       "      <th></th>\n",
       "      <th>id</th>\n",
       "      <th>brand</th>\n",
       "      <th>price</th>\n",
       "      <th>currency</th>\n",
       "      <th>mileage</th>\n",
       "      <th>fuel_type</th>\n",
       "      <th>transmission_type</th>\n",
       "      <th>pub_date</th>\n",
       "      <th>year_made</th>\n",
       "      <th>model</th>\n",
       "    </tr>\n",
       "  </thead>\n",
       "  <tbody>\n",
       "    <tr>\n",
       "      <th>0</th>\n",
       "      <td>0</td>\n",
       "      <td>Mercedes-Benz</td>\n",
       "      <td>8999</td>\n",
       "      <td>USD</td>\n",
       "      <td>159 тис. км</td>\n",
       "      <td>Газ / Бензин, 3 л.</td>\n",
       "      <td>Автомат</td>\n",
       "      <td>21.05.2021</td>\n",
       "      <td>2007</td>\n",
       "      <td>E 280 4MATIC AT CLASSIC</td>\n",
       "    </tr>\n",
       "    <tr>\n",
       "      <th>1</th>\n",
       "      <td>1</td>\n",
       "      <td>Mercedes-Benz</td>\n",
       "      <td>79900</td>\n",
       "      <td>USD</td>\n",
       "      <td>103 тис. км</td>\n",
       "      <td>Дизель, 3 л.</td>\n",
       "      <td>Автомат</td>\n",
       "      <td>15.05.2021</td>\n",
       "      <td>2015</td>\n",
       "      <td>G 350 Designo</td>\n",
       "    </tr>\n",
       "    <tr>\n",
       "      <th>2</th>\n",
       "      <td>2</td>\n",
       "      <td>BMW</td>\n",
       "      <td>15999</td>\n",
       "      <td>USD</td>\n",
       "      <td>145 тис. км</td>\n",
       "      <td>Бензин, 4.4 л.</td>\n",
       "      <td>Автомат</td>\n",
       "      <td>18.04.2021</td>\n",
       "      <td>2010</td>\n",
       "      <td>550</td>\n",
       "    </tr>\n",
       "  </tbody>\n",
       "</table>\n",
       "</div>"
      ],
      "text/plain": [
       "   id          brand  price currency        mileage             fuel_type  \\\n",
       "0   0  Mercedes-Benz   8999      USD   159 тис. км    Газ / Бензин, 3 л.    \n",
       "1   1  Mercedes-Benz  79900      USD   103 тис. км          Дизель, 3 л.    \n",
       "2   2            BMW  15999      USD   145 тис. км        Бензин, 4.4 л.    \n",
       "\n",
       "  transmission_type                 pub_date  year_made  \\\n",
       "0          Автомат      21.05.2021                 2007   \n",
       "1          Автомат      15.05.2021                 2015   \n",
       "2          Автомат      18.04.2021                 2010   \n",
       "\n",
       "                     model  \n",
       "0  E 280 4MATIC AT CLASSIC  \n",
       "1            G 350 Designo  \n",
       "2                      550  "
      ]
     },
     "execution_count": 10,
     "metadata": {},
     "output_type": "execute_result"
    }
   ],
   "source": [
    "# Split car brand and model into seperate columns\n",
    "df[\"model\"] = df.brand.str.split(n=1).str.get(1)\n",
    "df[\"brand\"] = df.brand.str.split(n=1).str.get(0)\n",
    "df.head(3)"
   ]
  },
  {
   "cell_type": "code",
   "execution_count": null,
   "id": "whole-editing",
   "metadata": {},
   "outputs": [],
   "source": []
  },
  {
   "cell_type": "markdown",
   "id": "automatic-health",
   "metadata": {},
   "source": [
    "### price and currency columns\n",
    "\n",
    "It would be best for future modeling to have single currency for price.<br>\n",
    "So let's convert all prices to USD and remove currency column."
   ]
  },
  {
   "cell_type": "code",
   "execution_count": 11,
   "id": "pregnant-discovery",
   "metadata": {},
   "outputs": [
    {
     "data": {
      "text/plain": [
       "USD    145519\n",
       "UAH       688\n",
       "EUR       607\n",
       "Name: currency, dtype: int64"
      ]
     },
     "execution_count": 11,
     "metadata": {},
     "output_type": "execute_result"
    }
   ],
   "source": [
    "df['currency'].value_counts()"
   ]
  },
  {
   "cell_type": "code",
   "execution_count": 12,
   "id": "rising-nerve",
   "metadata": {},
   "outputs": [
    {
     "data": {
      "text/plain": [
       "count    1.468140e+05\n",
       "mean     1.269740e+04\n",
       "std      3.546551e+04\n",
       "min      2.500000e+02\n",
       "25%      5.150000e+03\n",
       "50%      8.000000e+03\n",
       "75%      1.320000e+04\n",
       "max      3.172743e+06\n",
       "Name: price, dtype: float64"
      ]
     },
     "execution_count": 12,
     "metadata": {},
     "output_type": "execute_result"
    }
   ],
   "source": [
    "# Prices before conversion\n",
    "df['price'].describe()"
   ]
  },
  {
   "cell_type": "code",
   "execution_count": 13,
   "id": "common-airline",
   "metadata": {},
   "outputs": [
    {
     "data": {
      "text/plain": [
       "count    146814.000000\n",
       "mean      11559.182421\n",
       "std       16175.555228\n",
       "min         250.000000\n",
       "25%        5100.000000\n",
       "50%        8000.000000\n",
       "75%       13000.000000\n",
       "max      529900.000000\n",
       "Name: price, dtype: float64"
      ]
     },
     "execution_count": 13,
     "metadata": {},
     "output_type": "execute_result"
    }
   ],
   "source": [
    "# Convert currencies other than USD to USD\n",
    "UAH_USD = 0.036\n",
    "EUR_USD = 1.22\n",
    "\n",
    "df.loc[df['currency'] == 'UAH', 'price'] *= UAH_USD\n",
    "df.loc[df['currency'] == 'EUR', 'price'] *= EUR_USD\n",
    "\n",
    "df['price'] = df['price'].astype(int)\n",
    "\n",
    "# Prices after conversion\n",
    "df['price'].describe()"
   ]
  },
  {
   "cell_type": "code",
   "execution_count": 14,
   "id": "threatened-intro",
   "metadata": {},
   "outputs": [
    {
     "data": {
      "text/html": [
       "<div>\n",
       "<style scoped>\n",
       "    .dataframe tbody tr th:only-of-type {\n",
       "        vertical-align: middle;\n",
       "    }\n",
       "\n",
       "    .dataframe tbody tr th {\n",
       "        vertical-align: top;\n",
       "    }\n",
       "\n",
       "    .dataframe thead th {\n",
       "        text-align: right;\n",
       "    }\n",
       "</style>\n",
       "<table border=\"1\" class=\"dataframe\">\n",
       "  <thead>\n",
       "    <tr style=\"text-align: right;\">\n",
       "      <th></th>\n",
       "      <th>id</th>\n",
       "      <th>brand</th>\n",
       "      <th>price_USD</th>\n",
       "      <th>mileage</th>\n",
       "      <th>fuel_type</th>\n",
       "      <th>transmission_type</th>\n",
       "      <th>pub_date</th>\n",
       "      <th>year_made</th>\n",
       "      <th>model</th>\n",
       "    </tr>\n",
       "  </thead>\n",
       "  <tbody>\n",
       "    <tr>\n",
       "      <th>0</th>\n",
       "      <td>0</td>\n",
       "      <td>Mercedes-Benz</td>\n",
       "      <td>8999</td>\n",
       "      <td>159 тис. км</td>\n",
       "      <td>Газ / Бензин, 3 л.</td>\n",
       "      <td>Автомат</td>\n",
       "      <td>21.05.2021</td>\n",
       "      <td>2007</td>\n",
       "      <td>E 280 4MATIC AT CLASSIC</td>\n",
       "    </tr>\n",
       "    <tr>\n",
       "      <th>1</th>\n",
       "      <td>1</td>\n",
       "      <td>Mercedes-Benz</td>\n",
       "      <td>79900</td>\n",
       "      <td>103 тис. км</td>\n",
       "      <td>Дизель, 3 л.</td>\n",
       "      <td>Автомат</td>\n",
       "      <td>15.05.2021</td>\n",
       "      <td>2015</td>\n",
       "      <td>G 350 Designo</td>\n",
       "    </tr>\n",
       "    <tr>\n",
       "      <th>2</th>\n",
       "      <td>2</td>\n",
       "      <td>BMW</td>\n",
       "      <td>15999</td>\n",
       "      <td>145 тис. км</td>\n",
       "      <td>Бензин, 4.4 л.</td>\n",
       "      <td>Автомат</td>\n",
       "      <td>18.04.2021</td>\n",
       "      <td>2010</td>\n",
       "      <td>550</td>\n",
       "    </tr>\n",
       "  </tbody>\n",
       "</table>\n",
       "</div>"
      ],
      "text/plain": [
       "   id          brand  price_USD        mileage             fuel_type  \\\n",
       "0   0  Mercedes-Benz       8999   159 тис. км    Газ / Бензин, 3 л.    \n",
       "1   1  Mercedes-Benz      79900   103 тис. км          Дизель, 3 л.    \n",
       "2   2            BMW      15999   145 тис. км        Бензин, 4.4 л.    \n",
       "\n",
       "  transmission_type                 pub_date  year_made  \\\n",
       "0          Автомат      21.05.2021                 2007   \n",
       "1          Автомат      15.05.2021                 2015   \n",
       "2          Автомат      18.04.2021                 2010   \n",
       "\n",
       "                     model  \n",
       "0  E 280 4MATIC AT CLASSIC  \n",
       "1            G 350 Designo  \n",
       "2                      550  "
      ]
     },
     "execution_count": 14,
     "metadata": {},
     "output_type": "execute_result"
    }
   ],
   "source": [
    "# Rename price column and remove currency\n",
    "df.rename(columns={'price': 'price_USD'}, inplace=True)\n",
    "df.drop(columns=['currency'], inplace=True)\n",
    "df.head(3)"
   ]
  },
  {
   "cell_type": "markdown",
   "id": "super-beverage",
   "metadata": {},
   "source": [
    "### mileage column"
   ]
  },
  {
   "cell_type": "code",
   "execution_count": 15,
   "id": "excited-burton",
   "metadata": {},
   "outputs": [
    {
     "data": {
      "text/html": [
       "<div>\n",
       "<style scoped>\n",
       "    .dataframe tbody tr th:only-of-type {\n",
       "        vertical-align: middle;\n",
       "    }\n",
       "\n",
       "    .dataframe tbody tr th {\n",
       "        vertical-align: top;\n",
       "    }\n",
       "\n",
       "    .dataframe thead th {\n",
       "        text-align: right;\n",
       "    }\n",
       "</style>\n",
       "<table border=\"1\" class=\"dataframe\">\n",
       "  <thead>\n",
       "    <tr style=\"text-align: right;\">\n",
       "      <th></th>\n",
       "      <th>id</th>\n",
       "      <th>brand</th>\n",
       "      <th>price_USD</th>\n",
       "      <th>mileage</th>\n",
       "      <th>fuel_type</th>\n",
       "      <th>transmission_type</th>\n",
       "      <th>pub_date</th>\n",
       "      <th>year_made</th>\n",
       "      <th>model</th>\n",
       "    </tr>\n",
       "  </thead>\n",
       "  <tbody>\n",
       "    <tr>\n",
       "      <th>0</th>\n",
       "      <td>0</td>\n",
       "      <td>Mercedes-Benz</td>\n",
       "      <td>8999</td>\n",
       "      <td>159 тис. км</td>\n",
       "      <td>Газ / Бензин, 3 л.</td>\n",
       "      <td>Автомат</td>\n",
       "      <td>21.05.2021</td>\n",
       "      <td>2007</td>\n",
       "      <td>E 280 4MATIC AT CLASSIC</td>\n",
       "    </tr>\n",
       "    <tr>\n",
       "      <th>1</th>\n",
       "      <td>1</td>\n",
       "      <td>Mercedes-Benz</td>\n",
       "      <td>79900</td>\n",
       "      <td>103 тис. км</td>\n",
       "      <td>Дизель, 3 л.</td>\n",
       "      <td>Автомат</td>\n",
       "      <td>15.05.2021</td>\n",
       "      <td>2015</td>\n",
       "      <td>G 350 Designo</td>\n",
       "    </tr>\n",
       "    <tr>\n",
       "      <th>2</th>\n",
       "      <td>2</td>\n",
       "      <td>BMW</td>\n",
       "      <td>15999</td>\n",
       "      <td>145 тис. км</td>\n",
       "      <td>Бензин, 4.4 л.</td>\n",
       "      <td>Автомат</td>\n",
       "      <td>18.04.2021</td>\n",
       "      <td>2010</td>\n",
       "      <td>550</td>\n",
       "    </tr>\n",
       "  </tbody>\n",
       "</table>\n",
       "</div>"
      ],
      "text/plain": [
       "   id          brand  price_USD        mileage             fuel_type  \\\n",
       "0   0  Mercedes-Benz       8999   159 тис. км    Газ / Бензин, 3 л.    \n",
       "1   1  Mercedes-Benz      79900   103 тис. км          Дизель, 3 л.    \n",
       "2   2            BMW      15999   145 тис. км        Бензин, 4.4 л.    \n",
       "\n",
       "  transmission_type                 pub_date  year_made  \\\n",
       "0          Автомат      21.05.2021                 2007   \n",
       "1          Автомат      15.05.2021                 2015   \n",
       "2          Автомат      18.04.2021                 2010   \n",
       "\n",
       "                     model  \n",
       "0  E 280 4MATIC AT CLASSIC  \n",
       "1            G 350 Designo  \n",
       "2                      550  "
      ]
     },
     "execution_count": 15,
     "metadata": {},
     "output_type": "execute_result"
    }
   ],
   "source": [
    "df.head(3)"
   ]
  },
  {
   "cell_type": "code",
   "execution_count": 16,
   "id": "grateful-musician",
   "metadata": {},
   "outputs": [
    {
     "data": {
      "text/plain": [
       "3    143836\n",
       "2      2978\n",
       "Name: mileage, dtype: int64"
      ]
     },
     "execution_count": 16,
     "metadata": {},
     "output_type": "execute_result"
    }
   ],
   "source": [
    "# Check formats diversity for 'mileage'\n",
    "df['mileage'].str.split().str.len().value_counts()"
   ]
  },
  {
   "cell_type": "code",
   "execution_count": 17,
   "id": "cosmetic-milton",
   "metadata": {},
   "outputs": [
    {
     "data": {
      "text/plain": [
       " без пробега     2978\n",
       "Name: mileage, dtype: int64"
      ]
     },
     "execution_count": 17,
     "metadata": {},
     "output_type": "execute_result"
    }
   ],
   "source": [
    "# 'без пробега (no mileage)' must mean that car is fresh \n",
    "# and haven't been driven, so it will be reasonable to replace it with zeros.\n",
    "\n",
    "df.loc[df['mileage'].str.split().str.len() == 2, 'mileage'].value_counts()"
   ]
  },
  {
   "cell_type": "code",
   "execution_count": 18,
   "id": "infectious-running",
   "metadata": {},
   "outputs": [
    {
     "data": {
      "text/plain": [
       "тис. км     143836\n",
       "пробега       2978\n",
       "Name: mileage, dtype: int64"
      ]
     },
     "execution_count": 18,
     "metadata": {},
     "output_type": "execute_result"
    }
   ],
   "source": [
    "# All non zero mileage values are mesured in 'тис. км (thousand kilometers)'\n",
    "# So we can just drop that part and leave only numeric one.\n",
    "\n",
    "df.mileage.str.split(n=1).str[1].value_counts()"
   ]
  },
  {
   "cell_type": "code",
   "execution_count": 19,
   "id": "normal-reason",
   "metadata": {},
   "outputs": [
    {
     "data": {
      "text/plain": [
       "0    159\n",
       "1    103\n",
       "2    145\n",
       "Name: mileage, dtype: object"
      ]
     },
     "execution_count": 19,
     "metadata": {},
     "output_type": "execute_result"
    }
   ],
   "source": [
    "# drop 'тис. км' part\n",
    "df.loc[df.mileage.str.split().str.len() == 3, 'mileage'] = df.mileage.str.split().str.get(0)\n",
    "# set to zero all 'без пробега' values\n",
    "df.loc[df.mileage.str.split().str.len() == 2, 'mileage'] = 0\n",
    "df['mileage'].head(3)"
   ]
  },
  {
   "cell_type": "code",
   "execution_count": 20,
   "id": "recent-disabled",
   "metadata": {},
   "outputs": [
    {
     "data": {
      "text/plain": [
       "0    159\n",
       "1    103\n",
       "2    145\n",
       "3    111\n",
       "4     97\n",
       "Name: mileage, dtype: int64"
      ]
     },
     "execution_count": 20,
     "metadata": {},
     "output_type": "execute_result"
    }
   ],
   "source": [
    "# Convert to int\n",
    "df[\"mileage\"] = pd.to_numeric(df[\"mileage\"])\n",
    "df[\"mileage\"].head()"
   ]
  },
  {
   "cell_type": "code",
   "execution_count": 21,
   "id": "falling-commander",
   "metadata": {
    "scrolled": true
   },
   "outputs": [
    {
     "data": {
      "text/html": [
       "<div>\n",
       "<style scoped>\n",
       "    .dataframe tbody tr th:only-of-type {\n",
       "        vertical-align: middle;\n",
       "    }\n",
       "\n",
       "    .dataframe tbody tr th {\n",
       "        vertical-align: top;\n",
       "    }\n",
       "\n",
       "    .dataframe thead th {\n",
       "        text-align: right;\n",
       "    }\n",
       "</style>\n",
       "<table border=\"1\" class=\"dataframe\">\n",
       "  <thead>\n",
       "    <tr style=\"text-align: right;\">\n",
       "      <th></th>\n",
       "      <th>id</th>\n",
       "      <th>brand</th>\n",
       "      <th>price_USD</th>\n",
       "      <th>mileage_kkm</th>\n",
       "      <th>fuel_type</th>\n",
       "      <th>transmission_type</th>\n",
       "      <th>pub_date</th>\n",
       "      <th>year_made</th>\n",
       "      <th>model</th>\n",
       "    </tr>\n",
       "  </thead>\n",
       "  <tbody>\n",
       "    <tr>\n",
       "      <th>0</th>\n",
       "      <td>0</td>\n",
       "      <td>Mercedes-Benz</td>\n",
       "      <td>8999</td>\n",
       "      <td>159</td>\n",
       "      <td>Газ / Бензин, 3 л.</td>\n",
       "      <td>Автомат</td>\n",
       "      <td>21.05.2021</td>\n",
       "      <td>2007</td>\n",
       "      <td>E 280 4MATIC AT CLASSIC</td>\n",
       "    </tr>\n",
       "    <tr>\n",
       "      <th>1</th>\n",
       "      <td>1</td>\n",
       "      <td>Mercedes-Benz</td>\n",
       "      <td>79900</td>\n",
       "      <td>103</td>\n",
       "      <td>Дизель, 3 л.</td>\n",
       "      <td>Автомат</td>\n",
       "      <td>15.05.2021</td>\n",
       "      <td>2015</td>\n",
       "      <td>G 350 Designo</td>\n",
       "    </tr>\n",
       "    <tr>\n",
       "      <th>2</th>\n",
       "      <td>2</td>\n",
       "      <td>BMW</td>\n",
       "      <td>15999</td>\n",
       "      <td>145</td>\n",
       "      <td>Бензин, 4.4 л.</td>\n",
       "      <td>Автомат</td>\n",
       "      <td>18.04.2021</td>\n",
       "      <td>2010</td>\n",
       "      <td>550</td>\n",
       "    </tr>\n",
       "  </tbody>\n",
       "</table>\n",
       "</div>"
      ],
      "text/plain": [
       "   id          brand  price_USD  mileage_kkm             fuel_type  \\\n",
       "0   0  Mercedes-Benz       8999          159   Газ / Бензин, 3 л.    \n",
       "1   1  Mercedes-Benz      79900          103         Дизель, 3 л.    \n",
       "2   2            BMW      15999          145       Бензин, 4.4 л.    \n",
       "\n",
       "  transmission_type                 pub_date  year_made  \\\n",
       "0          Автомат      21.05.2021                 2007   \n",
       "1          Автомат      15.05.2021                 2015   \n",
       "2          Автомат      18.04.2021                 2010   \n",
       "\n",
       "                     model  \n",
       "0  E 280 4MATIC AT CLASSIC  \n",
       "1            G 350 Designo  \n",
       "2                      550  "
      ]
     },
     "execution_count": 21,
     "metadata": {},
     "output_type": "execute_result"
    }
   ],
   "source": [
    "# Rename 'mileage' to 'mileage_kkm' not to forget that values in this column are 1000km\n",
    "df.rename(columns={'mileage': 'mileage_kkm'}, inplace=True)\n",
    "df.head(3)"
   ]
  },
  {
   "cell_type": "code",
   "execution_count": 22,
   "id": "parliamentary-grill",
   "metadata": {},
   "outputs": [
    {
     "data": {
      "text/plain": [
       "count    146814.000000\n",
       "mean        186.485158\n",
       "std         982.145206\n",
       "min           0.000000\n",
       "25%         113.000000\n",
       "50%         180.000000\n",
       "75%         236.000000\n",
       "max      239000.000000\n",
       "Name: mileage_kkm, dtype: float64"
      ]
     },
     "execution_count": 22,
     "metadata": {},
     "output_type": "execute_result"
    }
   ],
   "source": [
    "df['mileage_kkm'].describe()"
   ]
  },
  {
   "cell_type": "code",
   "execution_count": 23,
   "id": "hourly-fifth",
   "metadata": {},
   "outputs": [
    {
     "data": {
      "text/html": [
       "<div>\n",
       "<style scoped>\n",
       "    .dataframe tbody tr th:only-of-type {\n",
       "        vertical-align: middle;\n",
       "    }\n",
       "\n",
       "    .dataframe tbody tr th {\n",
       "        vertical-align: top;\n",
       "    }\n",
       "\n",
       "    .dataframe thead th {\n",
       "        text-align: right;\n",
       "    }\n",
       "</style>\n",
       "<table border=\"1\" class=\"dataframe\">\n",
       "  <thead>\n",
       "    <tr style=\"text-align: right;\">\n",
       "      <th></th>\n",
       "      <th>id</th>\n",
       "      <th>brand</th>\n",
       "      <th>price_USD</th>\n",
       "      <th>mileage_kkm</th>\n",
       "      <th>fuel_type</th>\n",
       "      <th>transmission_type</th>\n",
       "      <th>pub_date</th>\n",
       "      <th>year_made</th>\n",
       "      <th>model</th>\n",
       "    </tr>\n",
       "  </thead>\n",
       "  <tbody>\n",
       "    <tr>\n",
       "      <th>64257</th>\n",
       "      <td>64257</td>\n",
       "      <td>Lexus</td>\n",
       "      <td>21600</td>\n",
       "      <td>195000</td>\n",
       "      <td>Газ / Бензин, 4.7 л.</td>\n",
       "      <td>Автомат</td>\n",
       "      <td>11.05.2021</td>\n",
       "      <td>2005</td>\n",
       "      <td>LX 470</td>\n",
       "    </tr>\n",
       "    <tr>\n",
       "      <th>93409</th>\n",
       "      <td>93409</td>\n",
       "      <td>BMW</td>\n",
       "      <td>6000</td>\n",
       "      <td>33000</td>\n",
       "      <td>Газ / Бензин, 3 л.</td>\n",
       "      <td>Автомат</td>\n",
       "      <td>4.05.2021</td>\n",
       "      <td>1996</td>\n",
       "      <td>730</td>\n",
       "    </tr>\n",
       "    <tr>\n",
       "      <th>144533</th>\n",
       "      <td>144533</td>\n",
       "      <td>ВАЗ</td>\n",
       "      <td>1500</td>\n",
       "      <td>239000</td>\n",
       "      <td>Газ / Бензин, 1.9 л.</td>\n",
       "      <td>Ручна / Механіка</td>\n",
       "      <td>16.05.2021</td>\n",
       "      <td>1989</td>\n",
       "      <td>2106 21061 1.5</td>\n",
       "    </tr>\n",
       "    <tr>\n",
       "      <th>144968</th>\n",
       "      <td>144968</td>\n",
       "      <td>Fiat</td>\n",
       "      <td>4500</td>\n",
       "      <td>210000</td>\n",
       "      <td>Бензин, 1.2 л.</td>\n",
       "      <td>Ручна / Механіка</td>\n",
       "      <td>15.05.2021</td>\n",
       "      <td>2003</td>\n",
       "      <td>Doblo груз.</td>\n",
       "    </tr>\n",
       "  </tbody>\n",
       "</table>\n",
       "</div>"
      ],
      "text/plain": [
       "            id  brand  price_USD  mileage_kkm               fuel_type  \\\n",
       "64257    64257  Lexus      21600       195000   Газ / Бензин, 4.7 л.    \n",
       "93409    93409    BMW       6000        33000     Газ / Бензин, 3 л.    \n",
       "144533  144533    ВАЗ       1500       239000   Газ / Бензин, 1.9 л.    \n",
       "144968  144968   Fiat       4500       210000         Бензин, 1.2 л.    \n",
       "\n",
       "         transmission_type                 pub_date  year_made           model  \n",
       "64257             Автомат      11.05.2021                 2005          LX 470  \n",
       "93409             Автомат       4.05.2021                 1996             730  \n",
       "144533   Ручна / Механіка      16.05.2021                 1989  2106 21061 1.5  \n",
       "144968   Ручна / Механіка      15.05.2021                 2003     Doblo груз.  "
      ]
     },
     "execution_count": 23,
     "metadata": {},
     "output_type": "execute_result"
    }
   ],
   "source": [
    "df[df['mileage_kkm'] > 1000]"
   ]
  },
  {
   "cell_type": "markdown",
   "id": "deluxe-generic",
   "metadata": {},
   "source": [
    "According to [Wikipedia](https://en.wikipedia.org/wiki/Car_longevity):\n",
    "\n",
    "`typical car lasts closer to 322,000 kilometres`<br>\n",
    "So it should be safe to assume that mileage over 1,000,000 kilometers is incorrect<br>\n",
    "(most likely users entered mileage data in plain kilometers)"
   ]
  },
  {
   "cell_type": "code",
   "execution_count": 24,
   "id": "suspected-plumbing",
   "metadata": {},
   "outputs": [
    {
     "data": {
      "text/plain": [
       "count    146814.000000\n",
       "mean        181.878493\n",
       "std         102.133535\n",
       "min           0.000000\n",
       "25%         113.000000\n",
       "50%         180.000000\n",
       "75%         236.000000\n",
       "max         999.000000\n",
       "Name: mileage_kkm, dtype: float64"
      ]
     },
     "execution_count": 24,
     "metadata": {},
     "output_type": "execute_result"
    }
   ],
   "source": [
    "# In order to normalize outliers let's divide this values by 1000\n",
    "df.loc[df['mileage_kkm'] > 1000, 'mileage_kkm'] //= 1000\n",
    "df['mileage_kkm'].describe()"
   ]
  },
  {
   "cell_type": "code",
   "execution_count": null,
   "id": "treated-sheriff",
   "metadata": {},
   "outputs": [],
   "source": []
  },
  {
   "cell_type": "markdown",
   "id": "brazilian-reviewer",
   "metadata": {},
   "source": [
    "### fuel_type column"
   ]
  },
  {
   "cell_type": "code",
   "execution_count": 25,
   "id": "buried-updating",
   "metadata": {},
   "outputs": [
    {
     "data": {
      "text/html": [
       "<div>\n",
       "<style scoped>\n",
       "    .dataframe tbody tr th:only-of-type {\n",
       "        vertical-align: middle;\n",
       "    }\n",
       "\n",
       "    .dataframe tbody tr th {\n",
       "        vertical-align: top;\n",
       "    }\n",
       "\n",
       "    .dataframe thead th {\n",
       "        text-align: right;\n",
       "    }\n",
       "</style>\n",
       "<table border=\"1\" class=\"dataframe\">\n",
       "  <thead>\n",
       "    <tr style=\"text-align: right;\">\n",
       "      <th></th>\n",
       "      <th>id</th>\n",
       "      <th>brand</th>\n",
       "      <th>price_USD</th>\n",
       "      <th>mileage_kkm</th>\n",
       "      <th>fuel_type</th>\n",
       "      <th>transmission_type</th>\n",
       "      <th>pub_date</th>\n",
       "      <th>year_made</th>\n",
       "      <th>model</th>\n",
       "    </tr>\n",
       "  </thead>\n",
       "  <tbody>\n",
       "    <tr>\n",
       "      <th>0</th>\n",
       "      <td>0</td>\n",
       "      <td>Mercedes-Benz</td>\n",
       "      <td>8999</td>\n",
       "      <td>159</td>\n",
       "      <td>Газ / Бензин, 3 л.</td>\n",
       "      <td>Автомат</td>\n",
       "      <td>21.05.2021</td>\n",
       "      <td>2007</td>\n",
       "      <td>E 280 4MATIC AT CLASSIC</td>\n",
       "    </tr>\n",
       "    <tr>\n",
       "      <th>1</th>\n",
       "      <td>1</td>\n",
       "      <td>Mercedes-Benz</td>\n",
       "      <td>79900</td>\n",
       "      <td>103</td>\n",
       "      <td>Дизель, 3 л.</td>\n",
       "      <td>Автомат</td>\n",
       "      <td>15.05.2021</td>\n",
       "      <td>2015</td>\n",
       "      <td>G 350 Designo</td>\n",
       "    </tr>\n",
       "    <tr>\n",
       "      <th>2</th>\n",
       "      <td>2</td>\n",
       "      <td>BMW</td>\n",
       "      <td>15999</td>\n",
       "      <td>145</td>\n",
       "      <td>Бензин, 4.4 л.</td>\n",
       "      <td>Автомат</td>\n",
       "      <td>18.04.2021</td>\n",
       "      <td>2010</td>\n",
       "      <td>550</td>\n",
       "    </tr>\n",
       "  </tbody>\n",
       "</table>\n",
       "</div>"
      ],
      "text/plain": [
       "   id          brand  price_USD  mileage_kkm             fuel_type  \\\n",
       "0   0  Mercedes-Benz       8999          159   Газ / Бензин, 3 л.    \n",
       "1   1  Mercedes-Benz      79900          103         Дизель, 3 л.    \n",
       "2   2            BMW      15999          145       Бензин, 4.4 л.    \n",
       "\n",
       "  transmission_type                 pub_date  year_made  \\\n",
       "0          Автомат      21.05.2021                 2007   \n",
       "1          Автомат      15.05.2021                 2015   \n",
       "2          Автомат      18.04.2021                 2010   \n",
       "\n",
       "                     model  \n",
       "0  E 280 4MATIC AT CLASSIC  \n",
       "1            G 350 Designo  \n",
       "2                      550  "
      ]
     },
     "execution_count": 25,
     "metadata": {},
     "output_type": "execute_result"
    }
   ],
   "source": [
    "# 'fuel_type' column can be split into 'fuel_type' and 'engine_size' (engine displacement)\n",
    "df.head(3)"
   ]
  },
  {
   "cell_type": "code",
   "execution_count": 26,
   "id": "tender-material",
   "metadata": {},
   "outputs": [
    {
     "data": {
      "text/plain": [
       "' Бензин, 4.4 л. '"
      ]
     },
     "execution_count": 26,
     "metadata": {},
     "output_type": "execute_result"
    }
   ],
   "source": [
    "df['fuel_type'][2]"
   ]
  },
  {
   "cell_type": "code",
   "execution_count": 27,
   "id": "pressed-throat",
   "metadata": {},
   "outputs": [
    {
     "data": {
      "text/plain": [
       "'Бензин, 4.4 л.'"
      ]
     },
     "execution_count": 27,
     "metadata": {},
     "output_type": "execute_result"
    }
   ],
   "source": [
    "# Remove spaces\n",
    "df['fuel_type'] = df['fuel_type'].str.strip()\n",
    "df['fuel_type'][2]"
   ]
  },
  {
   "cell_type": "code",
   "execution_count": 28,
   "id": "prompt-toyota",
   "metadata": {},
   "outputs": [
    {
     "data": {
      "text/plain": [
       "2    135182\n",
       "1     11632\n",
       "Name: fuel_type, dtype: int64"
      ]
     },
     "execution_count": 28,
     "metadata": {},
     "output_type": "execute_result"
    }
   ],
   "source": [
    "df['fuel_type'].str.split(',').str.len().value_counts()"
   ]
  },
  {
   "cell_type": "code",
   "execution_count": 29,
   "id": "corporate-constraint",
   "metadata": {},
   "outputs": [
    {
     "data": {
      "text/plain": [
       "17              Дизель\n",
       "39              Бензин\n",
       "41              Бензин\n",
       "49              Бензин\n",
       "58              Бензин\n",
       "              ...     \n",
       "146801    Газ / Бензин\n",
       "146803          1.9 л.\n",
       "146804          Дизель\n",
       "146810          Бензин\n",
       "146812          Бензин\n",
       "Name: fuel_type, Length: 11632, dtype: object"
      ]
     },
     "execution_count": 29,
     "metadata": {},
     "output_type": "execute_result"
    }
   ],
   "source": [
    "df.loc[df['fuel_type'].str.split(',').str.len() == 1, 'fuel_type']"
   ]
  },
  {
   "cell_type": "markdown",
   "id": "statewide-bargain",
   "metadata": {},
   "source": [
    "So it seems like fuel_type column contains 3 kind of values:<br>\n",
    "only fuel type, only engine size and both(fuel type and engine size)<br>\n",
    "Let's seperate them"
   ]
  },
  {
   "cell_type": "code",
   "execution_count": 30,
   "id": "oriental-practitioner",
   "metadata": {},
   "outputs": [
    {
     "data": {
      "text/plain": [
       "146810        NaN\n",
       "146811       2 л.\n",
       "146812        NaN\n",
       "146813     2.5 л.\n",
       "Name: fuel_type, dtype: object"
      ]
     },
     "execution_count": 30,
     "metadata": {},
     "output_type": "execute_result"
    }
   ],
   "source": [
    "# Engine size from rows that have both fuel type and engine size\n",
    "fuel_and_size = df['fuel_type'].str.split(',').str[1]\n",
    "fuel_and_size.tail(4)"
   ]
  },
  {
   "cell_type": "code",
   "execution_count": 31,
   "id": "absolute-proof",
   "metadata": {},
   "outputs": [
    {
     "data": {
      "text/plain": [
       "552     3.5 л.\n",
       "945       2 л.\n",
       "1733    3.5 л.\n",
       "Name: fuel_type, dtype: object"
      ]
     },
     "execution_count": 31,
     "metadata": {},
     "output_type": "execute_result"
    }
   ],
   "source": [
    "# Engine size from columns that have only engine size\n",
    "size_only = df[df['fuel_type'].str.split(',').str[0].str.strip().str.split().str[1] == 'л.'].fuel_type\n",
    "size_only.head(3)"
   ]
  },
  {
   "cell_type": "code",
   "execution_count": 32,
   "id": "controversial-wholesale",
   "metadata": {},
   "outputs": [
    {
     "data": {
      "text/plain": [
       "11632"
      ]
     },
     "execution_count": 32,
     "metadata": {},
     "output_type": "execute_result"
    }
   ],
   "source": [
    "fuel_and_size.isna().sum()"
   ]
  },
  {
   "cell_type": "code",
   "execution_count": 33,
   "id": "realistic-crystal",
   "metadata": {},
   "outputs": [
    {
     "data": {
      "text/plain": [
       "1001"
      ]
     },
     "execution_count": 33,
     "metadata": {},
     "output_type": "execute_result"
    }
   ],
   "source": [
    "size_only.size"
   ]
  },
  {
   "cell_type": "code",
   "execution_count": 34,
   "id": "binary-carpet",
   "metadata": {},
   "outputs": [
    {
     "data": {
      "text/plain": [
       "10631"
      ]
     },
     "execution_count": 34,
     "metadata": {},
     "output_type": "execute_result"
    }
   ],
   "source": [
    "# Fill NaN's from fuel_and_size with values in size_only\n",
    "engine_size = fuel_and_size.combine_first(size_only)\n",
    "engine_size.isna().sum()"
   ]
  },
  {
   "cell_type": "code",
   "execution_count": 35,
   "id": "auburn-acoustic",
   "metadata": {},
   "outputs": [
    {
     "data": {
      "text/plain": [
       "л.    136183\n",
       "Name: fuel_type, dtype: int64"
      ]
     },
     "execution_count": 35,
     "metadata": {},
     "output_type": "execute_result"
    }
   ],
   "source": [
    "# All engine size values are specified in liters\n",
    "# hence we can leave only numerical part\n",
    "engine_size.str.split().str[1].value_counts()"
   ]
  },
  {
   "cell_type": "code",
   "execution_count": 36,
   "id": "limited-chick",
   "metadata": {},
   "outputs": [
    {
     "data": {
      "text/plain": [
       "0    3.0\n",
       "1    3.0\n",
       "2    4.4\n",
       "Name: fuel_type, dtype: float64"
      ]
     },
     "execution_count": 36,
     "metadata": {},
     "output_type": "execute_result"
    }
   ],
   "source": [
    "engine_size = pd.to_numeric(engine_size.str.split().str[0])\n",
    "engine_size.head(3)"
   ]
  },
  {
   "cell_type": "code",
   "execution_count": 37,
   "id": "rotary-phrase",
   "metadata": {},
   "outputs": [
    {
     "data": {
      "text/html": [
       "<div>\n",
       "<style scoped>\n",
       "    .dataframe tbody tr th:only-of-type {\n",
       "        vertical-align: middle;\n",
       "    }\n",
       "\n",
       "    .dataframe tbody tr th {\n",
       "        vertical-align: top;\n",
       "    }\n",
       "\n",
       "    .dataframe thead th {\n",
       "        text-align: right;\n",
       "    }\n",
       "</style>\n",
       "<table border=\"1\" class=\"dataframe\">\n",
       "  <thead>\n",
       "    <tr style=\"text-align: right;\">\n",
       "      <th></th>\n",
       "      <th>id</th>\n",
       "      <th>brand</th>\n",
       "      <th>price_USD</th>\n",
       "      <th>mileage_kkm</th>\n",
       "      <th>fuel_type</th>\n",
       "      <th>transmission_type</th>\n",
       "      <th>pub_date</th>\n",
       "      <th>year_made</th>\n",
       "      <th>model</th>\n",
       "      <th>engine_size</th>\n",
       "    </tr>\n",
       "  </thead>\n",
       "  <tbody>\n",
       "    <tr>\n",
       "      <th>146809</th>\n",
       "      <td>146809</td>\n",
       "      <td>Renault</td>\n",
       "      <td>6100</td>\n",
       "      <td>260</td>\n",
       "      <td>Дизель, 1.5 л.</td>\n",
       "      <td>Ручна / Механіка</td>\n",
       "      <td>10.05.2021</td>\n",
       "      <td>2008</td>\n",
       "      <td>Kangoo пасс.</td>\n",
       "      <td>1.5</td>\n",
       "    </tr>\n",
       "    <tr>\n",
       "      <th>146810</th>\n",
       "      <td>146810</td>\n",
       "      <td>Audi</td>\n",
       "      <td>2100</td>\n",
       "      <td>352</td>\n",
       "      <td>Бензин</td>\n",
       "      <td>Ручна / Механіка</td>\n",
       "      <td>10.05.2021</td>\n",
       "      <td>1988</td>\n",
       "      <td>80 1.8 S</td>\n",
       "      <td>NaN</td>\n",
       "    </tr>\n",
       "    <tr>\n",
       "      <th>146811</th>\n",
       "      <td>146811</td>\n",
       "      <td>BMW</td>\n",
       "      <td>18000</td>\n",
       "      <td>70</td>\n",
       "      <td>Бензин, 2 л.</td>\n",
       "      <td>Автомат</td>\n",
       "      <td>10.05.2021</td>\n",
       "      <td>2011</td>\n",
       "      <td>520 F10</td>\n",
       "      <td>2.0</td>\n",
       "    </tr>\n",
       "    <tr>\n",
       "      <th>146812</th>\n",
       "      <td>146812</td>\n",
       "      <td>ВАЗ</td>\n",
       "      <td>400</td>\n",
       "      <td>278</td>\n",
       "      <td>Бензин</td>\n",
       "      <td>Ручна / Механіка</td>\n",
       "      <td>10.05.2021</td>\n",
       "      <td>2006</td>\n",
       "      <td>1118</td>\n",
       "      <td>NaN</td>\n",
       "    </tr>\n",
       "    <tr>\n",
       "      <th>146813</th>\n",
       "      <td>146813</td>\n",
       "      <td>Nissan</td>\n",
       "      <td>14900</td>\n",
       "      <td>73</td>\n",
       "      <td>Бензин, 2.5 л.</td>\n",
       "      <td>Автомат</td>\n",
       "      <td>10.05.2021</td>\n",
       "      <td>2017</td>\n",
       "      <td>Rogue</td>\n",
       "      <td>2.5</td>\n",
       "    </tr>\n",
       "  </tbody>\n",
       "</table>\n",
       "</div>"
      ],
      "text/plain": [
       "            id    brand  price_USD  mileage_kkm       fuel_type  \\\n",
       "146809  146809  Renault       6100          260  Дизель, 1.5 л.   \n",
       "146810  146810     Audi       2100          352          Бензин   \n",
       "146811  146811      BMW      18000           70    Бензин, 2 л.   \n",
       "146812  146812      ВАЗ        400          278          Бензин   \n",
       "146813  146813   Nissan      14900           73  Бензин, 2.5 л.   \n",
       "\n",
       "         transmission_type                 pub_date  year_made         model  \\\n",
       "146809   Ручна / Механіка      10.05.2021                 2008  Kangoo пасс.   \n",
       "146810   Ручна / Механіка      10.05.2021                 1988      80 1.8 S   \n",
       "146811            Автомат      10.05.2021                 2011       520 F10   \n",
       "146812   Ручна / Механіка      10.05.2021                 2006          1118   \n",
       "146813            Автомат      10.05.2021                 2017         Rogue   \n",
       "\n",
       "        engine_size  \n",
       "146809          1.5  \n",
       "146810          NaN  \n",
       "146811          2.0  \n",
       "146812          NaN  \n",
       "146813          2.5  "
      ]
     },
     "execution_count": 37,
     "metadata": {},
     "output_type": "execute_result"
    }
   ],
   "source": [
    "df['engine_size'] = engine_size\n",
    "df.tail(5)"
   ]
  },
  {
   "cell_type": "code",
   "execution_count": 38,
   "id": "danish-scheme",
   "metadata": {},
   "outputs": [
    {
     "data": {
      "text/plain": [
       "count    136183.000000\n",
       "mean          2.022561\n",
       "std           0.854566\n",
       "min           0.000000\n",
       "25%           1.600000\n",
       "50%           1.900000\n",
       "75%           2.200000\n",
       "max          99.990000\n",
       "Name: engine_size, dtype: float64"
      ]
     },
     "execution_count": 38,
     "metadata": {},
     "output_type": "execute_result"
    }
   ],
   "source": [
    "df['engine_size'].describe()"
   ]
  },
  {
   "cell_type": "code",
   "execution_count": 39,
   "id": "ceramic-detector",
   "metadata": {},
   "outputs": [
    {
     "data": {
      "text/html": [
       "<div>\n",
       "<style scoped>\n",
       "    .dataframe tbody tr th:only-of-type {\n",
       "        vertical-align: middle;\n",
       "    }\n",
       "\n",
       "    .dataframe tbody tr th {\n",
       "        vertical-align: top;\n",
       "    }\n",
       "\n",
       "    .dataframe thead th {\n",
       "        text-align: right;\n",
       "    }\n",
       "</style>\n",
       "<table border=\"1\" class=\"dataframe\">\n",
       "  <thead>\n",
       "    <tr style=\"text-align: right;\">\n",
       "      <th></th>\n",
       "      <th>id</th>\n",
       "      <th>brand</th>\n",
       "      <th>price_USD</th>\n",
       "      <th>mileage_kkm</th>\n",
       "      <th>fuel_type</th>\n",
       "      <th>transmission_type</th>\n",
       "      <th>pub_date</th>\n",
       "      <th>year_made</th>\n",
       "      <th>model</th>\n",
       "      <th>engine_size</th>\n",
       "    </tr>\n",
       "  </thead>\n",
       "  <tbody>\n",
       "    <tr>\n",
       "      <th>16486</th>\n",
       "      <td>16486</td>\n",
       "      <td>ВАЗ</td>\n",
       "      <td>1080</td>\n",
       "      <td>10</td>\n",
       "      <td>Бензин, 13 л.</td>\n",
       "      <td>Ручна / Механіка</td>\n",
       "      <td>21.05.2021</td>\n",
       "      <td>1986</td>\n",
       "      <td>2101 21013 1.2</td>\n",
       "      <td>13.00</td>\n",
       "    </tr>\n",
       "    <tr>\n",
       "      <th>16847</th>\n",
       "      <td>16847</td>\n",
       "      <td>Toyota</td>\n",
       "      <td>73000</td>\n",
       "      <td>2</td>\n",
       "      <td>Дизель, 11 л.</td>\n",
       "      <td>Автомат</td>\n",
       "      <td>21.05.2021</td>\n",
       "      <td>2008</td>\n",
       "      <td>Land Cruiser 200</td>\n",
       "      <td>11.00</td>\n",
       "    </tr>\n",
       "    <tr>\n",
       "      <th>25240</th>\n",
       "      <td>25240</td>\n",
       "      <td>ВАЗ</td>\n",
       "      <td>1450</td>\n",
       "      <td>25</td>\n",
       "      <td>Бензин, 13 л.</td>\n",
       "      <td>Ручна / Механіка</td>\n",
       "      <td>19.05.2021</td>\n",
       "      <td>1990</td>\n",
       "      <td>2106 21063</td>\n",
       "      <td>13.00</td>\n",
       "    </tr>\n",
       "    <tr>\n",
       "      <th>30277</th>\n",
       "      <td>30277</td>\n",
       "      <td>Kia</td>\n",
       "      <td>5600</td>\n",
       "      <td>179</td>\n",
       "      <td>Газ / Бензин, 16 л.</td>\n",
       "      <td>Ручна / Механіка</td>\n",
       "      <td>18.05.2021</td>\n",
       "      <td>2007</td>\n",
       "      <td>Cerato</td>\n",
       "      <td>16.00</td>\n",
       "    </tr>\n",
       "    <tr>\n",
       "      <th>40842</th>\n",
       "      <td>40842</td>\n",
       "      <td>Nissan</td>\n",
       "      <td>3150</td>\n",
       "      <td>250</td>\n",
       "      <td>Газ / Бензин, 12 л.</td>\n",
       "      <td>Ручна / Механіка</td>\n",
       "      <td>16.05.2021</td>\n",
       "      <td>1995</td>\n",
       "      <td>Maxima</td>\n",
       "      <td>12.00</td>\n",
       "    </tr>\n",
       "    <tr>\n",
       "      <th>49916</th>\n",
       "      <td>49916</td>\n",
       "      <td>Daewoo</td>\n",
       "      <td>2500</td>\n",
       "      <td>250</td>\n",
       "      <td>Газ / Бензин, 13 л.</td>\n",
       "      <td>Ручна / Механіка</td>\n",
       "      <td>14.05.2021</td>\n",
       "      <td>2005</td>\n",
       "      <td>Sens</td>\n",
       "      <td>13.00</td>\n",
       "    </tr>\n",
       "    <tr>\n",
       "      <th>58371</th>\n",
       "      <td>58371</td>\n",
       "      <td>Opel</td>\n",
       "      <td>5500</td>\n",
       "      <td>370</td>\n",
       "      <td>Дизель, 25 л.</td>\n",
       "      <td>Ручна / Механіка</td>\n",
       "      <td>12.05.2021</td>\n",
       "      <td>2006</td>\n",
       "      <td>Movano груз.</td>\n",
       "      <td>25.00</td>\n",
       "    </tr>\n",
       "    <tr>\n",
       "      <th>59625</th>\n",
       "      <td>59625</td>\n",
       "      <td>Chevrolet</td>\n",
       "      <td>8350</td>\n",
       "      <td>190</td>\n",
       "      <td>Дизель, 20 л.</td>\n",
       "      <td>Ручна / Механіка</td>\n",
       "      <td>12.05.2021</td>\n",
       "      <td>2008</td>\n",
       "      <td>Captiva 2.0 CDI 7 MICT</td>\n",
       "      <td>20.00</td>\n",
       "    </tr>\n",
       "    <tr>\n",
       "      <th>80468</th>\n",
       "      <td>80468</td>\n",
       "      <td>Fiat</td>\n",
       "      <td>1150</td>\n",
       "      <td>100</td>\n",
       "      <td>Бензин, 16 л.</td>\n",
       "      <td>Не вказано</td>\n",
       "      <td>7.05.2021</td>\n",
       "      <td>1988</td>\n",
       "      <td>Tipo</td>\n",
       "      <td>16.00</td>\n",
       "    </tr>\n",
       "    <tr>\n",
       "      <th>81193</th>\n",
       "      <td>81193</td>\n",
       "      <td>Mazda</td>\n",
       "      <td>6500</td>\n",
       "      <td>120</td>\n",
       "      <td>Бензин, 20 л.</td>\n",
       "      <td>Ручна / Механіка</td>\n",
       "      <td>7.05.2021</td>\n",
       "      <td>2006</td>\n",
       "      <td>3</td>\n",
       "      <td>20.00</td>\n",
       "    </tr>\n",
       "    <tr>\n",
       "      <th>86486</th>\n",
       "      <td>86486</td>\n",
       "      <td>Mercedes-Benz</td>\n",
       "      <td>13600</td>\n",
       "      <td>400</td>\n",
       "      <td>Дизель, 22 л.</td>\n",
       "      <td>Ручна / Механіка</td>\n",
       "      <td>5.05.2021</td>\n",
       "      <td>2008</td>\n",
       "      <td>Sprinter 313 пас.</td>\n",
       "      <td>22.00</td>\n",
       "    </tr>\n",
       "    <tr>\n",
       "      <th>90500</th>\n",
       "      <td>90500</td>\n",
       "      <td>ВАЗ</td>\n",
       "      <td>5999</td>\n",
       "      <td>86</td>\n",
       "      <td>Газ / Бензин, 90 л.</td>\n",
       "      <td>Ручна / Механіка</td>\n",
       "      <td>5.05.2021</td>\n",
       "      <td>2011</td>\n",
       "      <td>2121</td>\n",
       "      <td>90.00</td>\n",
       "    </tr>\n",
       "    <tr>\n",
       "      <th>104208</th>\n",
       "      <td>104208</td>\n",
       "      <td>Ford</td>\n",
       "      <td>7500</td>\n",
       "      <td>280</td>\n",
       "      <td>Дизель, 18 л.</td>\n",
       "      <td>Ручна / Механіка</td>\n",
       "      <td>24.04.2021</td>\n",
       "      <td>2007</td>\n",
       "      <td>S-Max</td>\n",
       "      <td>18.00</td>\n",
       "    </tr>\n",
       "    <tr>\n",
       "      <th>123424</th>\n",
       "      <td>123424</td>\n",
       "      <td>Kia</td>\n",
       "      <td>9500</td>\n",
       "      <td>88</td>\n",
       "      <td>Бензин, 96 л.</td>\n",
       "      <td>Ручна / Механіка</td>\n",
       "      <td>26.04.2021</td>\n",
       "      <td>2012</td>\n",
       "      <td>Venga 1.4i</td>\n",
       "      <td>96.00</td>\n",
       "    </tr>\n",
       "    <tr>\n",
       "      <th>129742</th>\n",
       "      <td>129742</td>\n",
       "      <td>Ford</td>\n",
       "      <td>7500</td>\n",
       "      <td>280</td>\n",
       "      <td>Дизель, 18 л.</td>\n",
       "      <td>Ручна / Механіка</td>\n",
       "      <td>24.04.2021</td>\n",
       "      <td>2007</td>\n",
       "      <td>S-Max</td>\n",
       "      <td>18.00</td>\n",
       "    </tr>\n",
       "    <tr>\n",
       "      <th>131481</th>\n",
       "      <td>131481</td>\n",
       "      <td>Toyota</td>\n",
       "      <td>5900</td>\n",
       "      <td>270</td>\n",
       "      <td>Газ / Бензин, 14 л.</td>\n",
       "      <td>Ручна / Механіка</td>\n",
       "      <td>23.04.2021</td>\n",
       "      <td>2005</td>\n",
       "      <td>Corolla</td>\n",
       "      <td>14.00</td>\n",
       "    </tr>\n",
       "    <tr>\n",
       "      <th>137911</th>\n",
       "      <td>137911</td>\n",
       "      <td>Chevrolet</td>\n",
       "      <td>5000</td>\n",
       "      <td>175</td>\n",
       "      <td>Бензин, 17 л.</td>\n",
       "      <td>Ручна / Механіка</td>\n",
       "      <td>20.04.2021</td>\n",
       "      <td>2008</td>\n",
       "      <td>Niva</td>\n",
       "      <td>17.00</td>\n",
       "    </tr>\n",
       "    <tr>\n",
       "      <th>140710</th>\n",
       "      <td>140710</td>\n",
       "      <td>Volkswagen</td>\n",
       "      <td>5600</td>\n",
       "      <td>215</td>\n",
       "      <td>Дизель, 20 л.</td>\n",
       "      <td>Автомат</td>\n",
       "      <td>21.05.2021</td>\n",
       "      <td>2005</td>\n",
       "      <td>Touran</td>\n",
       "      <td>20.00</td>\n",
       "    </tr>\n",
       "    <tr>\n",
       "      <th>143986</th>\n",
       "      <td>143986</td>\n",
       "      <td>ВАЗ</td>\n",
       "      <td>1550</td>\n",
       "      <td>1</td>\n",
       "      <td>15 л.</td>\n",
       "      <td>Не вказано</td>\n",
       "      <td>17.05.2021</td>\n",
       "      <td>1990</td>\n",
       "      <td>2107</td>\n",
       "      <td>15.00</td>\n",
       "    </tr>\n",
       "    <tr>\n",
       "      <th>144528</th>\n",
       "      <td>144528</td>\n",
       "      <td>ВАЗ</td>\n",
       "      <td>1500</td>\n",
       "      <td>1</td>\n",
       "      <td>Газ / Бензин, 99.99 л.</td>\n",
       "      <td>Ручна / Механіка</td>\n",
       "      <td>16.05.2021</td>\n",
       "      <td>1980</td>\n",
       "      <td>2103</td>\n",
       "      <td>99.99</td>\n",
       "    </tr>\n",
       "    <tr>\n",
       "      <th>144995</th>\n",
       "      <td>144995</td>\n",
       "      <td>Renault</td>\n",
       "      <td>10900</td>\n",
       "      <td>210</td>\n",
       "      <td>Дизель, 20 л.</td>\n",
       "      <td>Ручна / Механіка</td>\n",
       "      <td>14.05.2021</td>\n",
       "      <td>2012</td>\n",
       "      <td>Trafic груз. REF</td>\n",
       "      <td>20.00</td>\n",
       "    </tr>\n",
       "  </tbody>\n",
       "</table>\n",
       "</div>"
      ],
      "text/plain": [
       "            id          brand  price_USD  mileage_kkm               fuel_type  \\\n",
       "16486    16486            ВАЗ       1080           10           Бензин, 13 л.   \n",
       "16847    16847         Toyota      73000            2           Дизель, 11 л.   \n",
       "25240    25240            ВАЗ       1450           25           Бензин, 13 л.   \n",
       "30277    30277            Kia       5600          179     Газ / Бензин, 16 л.   \n",
       "40842    40842         Nissan       3150          250     Газ / Бензин, 12 л.   \n",
       "49916    49916         Daewoo       2500          250     Газ / Бензин, 13 л.   \n",
       "58371    58371           Opel       5500          370           Дизель, 25 л.   \n",
       "59625    59625      Chevrolet       8350          190           Дизель, 20 л.   \n",
       "80468    80468           Fiat       1150          100           Бензин, 16 л.   \n",
       "81193    81193          Mazda       6500          120           Бензин, 20 л.   \n",
       "86486    86486  Mercedes-Benz      13600          400           Дизель, 22 л.   \n",
       "90500    90500            ВАЗ       5999           86     Газ / Бензин, 90 л.   \n",
       "104208  104208           Ford       7500          280           Дизель, 18 л.   \n",
       "123424  123424            Kia       9500           88           Бензин, 96 л.   \n",
       "129742  129742           Ford       7500          280           Дизель, 18 л.   \n",
       "131481  131481         Toyota       5900          270     Газ / Бензин, 14 л.   \n",
       "137911  137911      Chevrolet       5000          175           Бензин, 17 л.   \n",
       "140710  140710     Volkswagen       5600          215           Дизель, 20 л.   \n",
       "143986  143986            ВАЗ       1550            1                   15 л.   \n",
       "144528  144528            ВАЗ       1500            1  Газ / Бензин, 99.99 л.   \n",
       "144995  144995        Renault      10900          210           Дизель, 20 л.   \n",
       "\n",
       "         transmission_type                 pub_date  year_made  \\\n",
       "16486    Ручна / Механіка      21.05.2021                 1986   \n",
       "16847             Автомат      21.05.2021                 2008   \n",
       "25240    Ручна / Механіка      19.05.2021                 1990   \n",
       "30277    Ручна / Механіка      18.05.2021                 2007   \n",
       "40842    Ручна / Механіка      16.05.2021                 1995   \n",
       "49916    Ручна / Механіка      14.05.2021                 2005   \n",
       "58371    Ручна / Механіка      12.05.2021                 2006   \n",
       "59625    Ручна / Механіка      12.05.2021                 2008   \n",
       "80468          Не вказано       7.05.2021                 1988   \n",
       "81193    Ручна / Механіка       7.05.2021                 2006   \n",
       "86486    Ручна / Механіка       5.05.2021                 2008   \n",
       "90500    Ручна / Механіка       5.05.2021                 2011   \n",
       "104208   Ручна / Механіка      24.04.2021                 2007   \n",
       "123424   Ручна / Механіка      26.04.2021                 2012   \n",
       "129742   Ручна / Механіка      24.04.2021                 2007   \n",
       "131481   Ручна / Механіка      23.04.2021                 2005   \n",
       "137911   Ручна / Механіка      20.04.2021                 2008   \n",
       "140710            Автомат      21.05.2021                 2005   \n",
       "143986         Не вказано      17.05.2021                 1990   \n",
       "144528   Ручна / Механіка      16.05.2021                 1980   \n",
       "144995   Ручна / Механіка      14.05.2021                 2012   \n",
       "\n",
       "                         model  engine_size  \n",
       "16486           2101 21013 1.2        13.00  \n",
       "16847         Land Cruiser 200        11.00  \n",
       "25240               2106 21063        13.00  \n",
       "30277                   Cerato        16.00  \n",
       "40842                   Maxima        12.00  \n",
       "49916                     Sens        13.00  \n",
       "58371             Movano груз.        25.00  \n",
       "59625   Captiva 2.0 CDI 7 MICT        20.00  \n",
       "80468                     Tipo        16.00  \n",
       "81193                        3        20.00  \n",
       "86486        Sprinter 313 пас.        22.00  \n",
       "90500                     2121        90.00  \n",
       "104208                   S-Max        18.00  \n",
       "123424              Venga 1.4i        96.00  \n",
       "129742                   S-Max        18.00  \n",
       "131481                 Corolla        14.00  \n",
       "137911                    Niva        17.00  \n",
       "140710                  Touran        20.00  \n",
       "143986                    2107        15.00  \n",
       "144528                    2103        99.99  \n",
       "144995        Trafic груз. REF        20.00  "
      ]
     },
     "execution_count": 39,
     "metadata": {},
     "output_type": "execute_result"
    }
   ],
   "source": [
    "# This is definitely wrong\n",
    "df.loc[df['engine_size'] > 10]"
   ]
  },
  {
   "cell_type": "code",
   "execution_count": 40,
   "id": "hungarian-bottle",
   "metadata": {},
   "outputs": [
    {
     "data": {
      "text/plain": [
       "count    136162.000000\n",
       "mean          2.018547\n",
       "std           0.712282\n",
       "min           0.000000\n",
       "25%           1.600000\n",
       "50%           1.900000\n",
       "75%           2.200000\n",
       "max           7.400000\n",
       "Name: engine_size, dtype: float64"
      ]
     },
     "execution_count": 40,
     "metadata": {},
     "output_type": "execute_result"
    }
   ],
   "source": [
    "# Set engine_size values bigger than 10 to NaN\n",
    "# if needed it can be derived from the date\n",
    "df.loc[df['engine_size'] > 10, 'engine_size'] = np.nan\n",
    "df['engine_size'].describe()"
   ]
  },
  {
   "cell_type": "code",
   "execution_count": 41,
   "id": "harmful-value",
   "metadata": {},
   "outputs": [
    {
     "data": {
      "text/html": [
       "<div>\n",
       "<style scoped>\n",
       "    .dataframe tbody tr th:only-of-type {\n",
       "        vertical-align: middle;\n",
       "    }\n",
       "\n",
       "    .dataframe tbody tr th {\n",
       "        vertical-align: top;\n",
       "    }\n",
       "\n",
       "    .dataframe thead th {\n",
       "        text-align: right;\n",
       "    }\n",
       "</style>\n",
       "<table border=\"1\" class=\"dataframe\">\n",
       "  <thead>\n",
       "    <tr style=\"text-align: right;\">\n",
       "      <th></th>\n",
       "      <th>id</th>\n",
       "      <th>brand</th>\n",
       "      <th>price_USD</th>\n",
       "      <th>mileage_kkm</th>\n",
       "      <th>fuel_type</th>\n",
       "      <th>transmission_type</th>\n",
       "      <th>pub_date</th>\n",
       "      <th>year_made</th>\n",
       "      <th>model</th>\n",
       "      <th>engine_size</th>\n",
       "    </tr>\n",
       "  </thead>\n",
       "  <tbody>\n",
       "    <tr>\n",
       "      <th>146809</th>\n",
       "      <td>146809</td>\n",
       "      <td>Renault</td>\n",
       "      <td>6100</td>\n",
       "      <td>260</td>\n",
       "      <td>Дизель</td>\n",
       "      <td>Ручна / Механіка</td>\n",
       "      <td>10.05.2021</td>\n",
       "      <td>2008</td>\n",
       "      <td>Kangoo пасс.</td>\n",
       "      <td>1.5</td>\n",
       "    </tr>\n",
       "    <tr>\n",
       "      <th>146810</th>\n",
       "      <td>146810</td>\n",
       "      <td>Audi</td>\n",
       "      <td>2100</td>\n",
       "      <td>352</td>\n",
       "      <td>Бензин</td>\n",
       "      <td>Ручна / Механіка</td>\n",
       "      <td>10.05.2021</td>\n",
       "      <td>1988</td>\n",
       "      <td>80 1.8 S</td>\n",
       "      <td>NaN</td>\n",
       "    </tr>\n",
       "    <tr>\n",
       "      <th>146811</th>\n",
       "      <td>146811</td>\n",
       "      <td>BMW</td>\n",
       "      <td>18000</td>\n",
       "      <td>70</td>\n",
       "      <td>Бензин</td>\n",
       "      <td>Автомат</td>\n",
       "      <td>10.05.2021</td>\n",
       "      <td>2011</td>\n",
       "      <td>520 F10</td>\n",
       "      <td>2.0</td>\n",
       "    </tr>\n",
       "    <tr>\n",
       "      <th>146812</th>\n",
       "      <td>146812</td>\n",
       "      <td>ВАЗ</td>\n",
       "      <td>400</td>\n",
       "      <td>278</td>\n",
       "      <td>Бензин</td>\n",
       "      <td>Ручна / Механіка</td>\n",
       "      <td>10.05.2021</td>\n",
       "      <td>2006</td>\n",
       "      <td>1118</td>\n",
       "      <td>NaN</td>\n",
       "    </tr>\n",
       "    <tr>\n",
       "      <th>146813</th>\n",
       "      <td>146813</td>\n",
       "      <td>Nissan</td>\n",
       "      <td>14900</td>\n",
       "      <td>73</td>\n",
       "      <td>Бензин</td>\n",
       "      <td>Автомат</td>\n",
       "      <td>10.05.2021</td>\n",
       "      <td>2017</td>\n",
       "      <td>Rogue</td>\n",
       "      <td>2.5</td>\n",
       "    </tr>\n",
       "  </tbody>\n",
       "</table>\n",
       "</div>"
      ],
      "text/plain": [
       "            id    brand  price_USD  mileage_kkm fuel_type   transmission_type  \\\n",
       "146809  146809  Renault       6100          260    Дизель   Ручна / Механіка    \n",
       "146810  146810     Audi       2100          352    Бензин   Ручна / Механіка    \n",
       "146811  146811      BMW      18000           70    Бензин            Автомат    \n",
       "146812  146812      ВАЗ        400          278    Бензин   Ручна / Механіка    \n",
       "146813  146813   Nissan      14900           73    Бензин            Автомат    \n",
       "\n",
       "                       pub_date  year_made         model  engine_size  \n",
       "146809     10.05.2021                 2008  Kangoo пасс.          1.5  \n",
       "146810     10.05.2021                 1988      80 1.8 S          NaN  \n",
       "146811     10.05.2021                 2011       520 F10          2.0  \n",
       "146812     10.05.2021                 2006          1118          NaN  \n",
       "146813     10.05.2021                 2017         Rogue          2.5  "
      ]
     },
     "execution_count": 41,
     "metadata": {},
     "output_type": "execute_result"
    }
   ],
   "source": [
    "# Remove engine size from fuel_type where are both fuel type and engine size\n",
    "df['fuel_type'] = df['fuel_type'].str.split(',').str[0].str.strip()\n",
    "df.tail(5)"
   ]
  },
  {
   "cell_type": "code",
   "execution_count": 42,
   "id": "appropriate-reception",
   "metadata": {},
   "outputs": [
    {
     "data": {
      "text/plain": [
       "Бензин          62065\n",
       "Дизель          47038\n",
       "Газ / Бензин    31568\n",
       "Електро          1810\n",
       "Гібрид           1686\n",
       "                ...  \n",
       "1.34 л.             1\n",
       "1.78 л.             1\n",
       "6.2 л.              1\n",
       "1.45 л.             1\n",
       "1.61 л.             1\n",
       "Name: fuel_type, Length: 72, dtype: int64"
      ]
     },
     "execution_count": 42,
     "metadata": {},
     "output_type": "execute_result"
    }
   ],
   "source": [
    "df['fuel_type'].value_counts()"
   ]
  },
  {
   "cell_type": "code",
   "execution_count": 43,
   "id": "therapeutic-raising",
   "metadata": {},
   "outputs": [
    {
     "data": {
      "text/plain": [
       "Бензин              62065\n",
       "Дизель              47038\n",
       "Газ / Бензин        31568\n",
       "Електро              1810\n",
       "Гібрид               1686\n",
       "Не вказано            834\n",
       "Газ                   535\n",
       "Гибрид                124\n",
       "Газ пропан-бутан       62\n",
       "Электро                42\n",
       "Газ метан              42\n",
       "Інше                    7\n",
       "Name: fuel_type, dtype: int64"
      ]
     },
     "execution_count": 43,
     "metadata": {},
     "output_type": "execute_result"
    }
   ],
   "source": [
    "# Set fuel_type column values to NaN where is no fuel type only engine size\n",
    "df.loc[df['fuel_type'].str.contains('л.', regex=False), 'fuel_type'] = np.nan\n",
    "df['fuel_type'].value_counts()"
   ]
  },
  {
   "cell_type": "code",
   "execution_count": 44,
   "id": "embedded-breakdown",
   "metadata": {},
   "outputs": [
    {
     "data": {
      "text/plain": [
       "petrol        62065\n",
       "diesel        47038\n",
       "gas/petrol    31568\n",
       "electric       1852\n",
       "hybrid         1810\n",
       "gas             639\n",
       "Name: fuel_type, dtype: int64"
      ]
     },
     "execution_count": 44,
     "metadata": {},
     "output_type": "execute_result"
    }
   ],
   "source": [
    "# Normalize category names in fuel_type column\n",
    "\n",
    "ftype_replace_dict = {\n",
    "    'fuel_type': {\n",
    "        'Бензин': 'petrol',\n",
    "        'Дизель': 'diesel',\n",
    "        'Газ / Бензин': 'gas/petrol',\n",
    "        \n",
    "        'Електро': 'electric',\n",
    "        'Электро': 'electric',\n",
    "        \n",
    "        'Гібрид': 'hybrid',\n",
    "        'Гибрид': 'hybrid',\n",
    "        \n",
    "        'Не вказано': np.nan,\n",
    "        'Інше': np.nan,\n",
    "        \n",
    "        'Газ': 'gas',\n",
    "        'Газ пропан-бутан': 'gas',\n",
    "        'Газ метан': 'gas'\n",
    "    }\n",
    "}\n",
    "\n",
    "\n",
    "df.replace(ftype_replace_dict, inplace=True)\n",
    "df['fuel_type'].value_counts()"
   ]
  },
  {
   "cell_type": "markdown",
   "id": "silent-snake",
   "metadata": {},
   "source": [
    "### transmission_type column"
   ]
  },
  {
   "cell_type": "code",
   "execution_count": 45,
   "id": "collective-merchandise",
   "metadata": {},
   "outputs": [
    {
     "data": {
      "text/html": [
       "<div>\n",
       "<style scoped>\n",
       "    .dataframe tbody tr th:only-of-type {\n",
       "        vertical-align: middle;\n",
       "    }\n",
       "\n",
       "    .dataframe tbody tr th {\n",
       "        vertical-align: top;\n",
       "    }\n",
       "\n",
       "    .dataframe thead th {\n",
       "        text-align: right;\n",
       "    }\n",
       "</style>\n",
       "<table border=\"1\" class=\"dataframe\">\n",
       "  <thead>\n",
       "    <tr style=\"text-align: right;\">\n",
       "      <th></th>\n",
       "      <th>id</th>\n",
       "      <th>brand</th>\n",
       "      <th>price_USD</th>\n",
       "      <th>mileage_kkm</th>\n",
       "      <th>fuel_type</th>\n",
       "      <th>transmission_type</th>\n",
       "      <th>pub_date</th>\n",
       "      <th>year_made</th>\n",
       "      <th>model</th>\n",
       "      <th>engine_size</th>\n",
       "    </tr>\n",
       "  </thead>\n",
       "  <tbody>\n",
       "    <tr>\n",
       "      <th>0</th>\n",
       "      <td>0</td>\n",
       "      <td>Mercedes-Benz</td>\n",
       "      <td>8999</td>\n",
       "      <td>159</td>\n",
       "      <td>gas/petrol</td>\n",
       "      <td>Автомат</td>\n",
       "      <td>21.05.2021</td>\n",
       "      <td>2007</td>\n",
       "      <td>E 280 4MATIC AT CLASSIC</td>\n",
       "      <td>3.0</td>\n",
       "    </tr>\n",
       "    <tr>\n",
       "      <th>1</th>\n",
       "      <td>1</td>\n",
       "      <td>Mercedes-Benz</td>\n",
       "      <td>79900</td>\n",
       "      <td>103</td>\n",
       "      <td>diesel</td>\n",
       "      <td>Автомат</td>\n",
       "      <td>15.05.2021</td>\n",
       "      <td>2015</td>\n",
       "      <td>G 350 Designo</td>\n",
       "      <td>3.0</td>\n",
       "    </tr>\n",
       "    <tr>\n",
       "      <th>2</th>\n",
       "      <td>2</td>\n",
       "      <td>BMW</td>\n",
       "      <td>15999</td>\n",
       "      <td>145</td>\n",
       "      <td>petrol</td>\n",
       "      <td>Автомат</td>\n",
       "      <td>18.04.2021</td>\n",
       "      <td>2010</td>\n",
       "      <td>550</td>\n",
       "      <td>4.4</td>\n",
       "    </tr>\n",
       "  </tbody>\n",
       "</table>\n",
       "</div>"
      ],
      "text/plain": [
       "   id          brand  price_USD  mileage_kkm   fuel_type transmission_type  \\\n",
       "0   0  Mercedes-Benz       8999          159  gas/petrol          Автомат    \n",
       "1   1  Mercedes-Benz      79900          103      diesel          Автомат    \n",
       "2   2            BMW      15999          145      petrol          Автомат    \n",
       "\n",
       "                  pub_date  year_made                    model  engine_size  \n",
       "0     21.05.2021                 2007  E 280 4MATIC AT CLASSIC          3.0  \n",
       "1     15.05.2021                 2015            G 350 Designo          3.0  \n",
       "2     18.04.2021                 2010                      550          4.4  "
      ]
     },
     "execution_count": 45,
     "metadata": {},
     "output_type": "execute_result"
    }
   ],
   "source": [
    "df.head(3)"
   ]
  },
  {
   "cell_type": "code",
   "execution_count": 46,
   "id": "fewer-beach",
   "metadata": {},
   "outputs": [
    {
     "data": {
      "text/plain": [
       "' Автомат '"
      ]
     },
     "execution_count": 46,
     "metadata": {},
     "output_type": "execute_result"
    }
   ],
   "source": [
    "df['transmission_type'][0]"
   ]
  },
  {
   "cell_type": "code",
   "execution_count": 47,
   "id": "dangerous-germany",
   "metadata": {},
   "outputs": [],
   "source": [
    "# Remove spaces\n",
    "df['transmission_type'] = df['transmission_type'].str.strip()"
   ]
  },
  {
   "cell_type": "code",
   "execution_count": 48,
   "id": "floppy-control",
   "metadata": {},
   "outputs": [
    {
     "data": {
      "text/plain": [
       "'Автомат'"
      ]
     },
     "execution_count": 48,
     "metadata": {},
     "output_type": "execute_result"
    }
   ],
   "source": [
    "df['transmission_type'][0]"
   ]
  },
  {
   "cell_type": "code",
   "execution_count": 49,
   "id": "funny-volunteer",
   "metadata": {},
   "outputs": [
    {
     "data": {
      "text/plain": [
       "Ручна / Механіка    74410\n",
       "Автомат             53876\n",
       "Не вказано           8930\n",
       "Типтронік            3725\n",
       "Варіатор             2770\n",
       "Робот                1901\n",
       "Механическая          705\n",
       "Вариатор              418\n",
       "Роботизированная       53\n",
       "Типтроник              26\n",
       "Name: transmission_type, dtype: int64"
      ]
     },
     "execution_count": 49,
     "metadata": {},
     "output_type": "execute_result"
    }
   ],
   "source": [
    "df['transmission_type'].value_counts()"
   ]
  },
  {
   "cell_type": "code",
   "execution_count": 50,
   "id": "polar-swimming",
   "metadata": {},
   "outputs": [
    {
     "data": {
      "text/plain": [
       "manual       75115\n",
       "automatic    53876\n",
       "tiptronic     3751\n",
       "variator      3188\n",
       "robotic       1954\n",
       "Name: transmission_type, dtype: int64"
      ]
     },
     "execution_count": 50,
     "metadata": {},
     "output_type": "execute_result"
    }
   ],
   "source": [
    "# Normalize category names in transmission_type column\n",
    "\n",
    "ttype_replace_dict = {\n",
    "    'transmission_type': {\n",
    "        'Ручна / Механіка': 'manual',\n",
    "        'Механическая': 'manual',\n",
    "        \n",
    "        'Автомат': 'automatic',\n",
    "        'Не вказано': np.nan,\n",
    "        \n",
    "        'Типтронік': 'tiptronic',\n",
    "        'Типтроник': 'tiptronic',\n",
    "        \n",
    "        'Варіатор': 'variator',\n",
    "        'Вариатор': 'variator',\n",
    "        \n",
    "        'Робот': 'robotic',\n",
    "        'Роботизированная': 'robotic',\n",
    "        \n",
    "    }\n",
    "}\n",
    "\n",
    "df.replace(ttype_replace_dict, inplace=True)\n",
    "df['transmission_type'].value_counts()"
   ]
  },
  {
   "cell_type": "markdown",
   "id": "typical-modification",
   "metadata": {},
   "source": [
    "### pub_date column"
   ]
  },
  {
   "cell_type": "code",
   "execution_count": 51,
   "id": "bigger-shadow",
   "metadata": {},
   "outputs": [
    {
     "data": {
      "text/html": [
       "<div>\n",
       "<style scoped>\n",
       "    .dataframe tbody tr th:only-of-type {\n",
       "        vertical-align: middle;\n",
       "    }\n",
       "\n",
       "    .dataframe tbody tr th {\n",
       "        vertical-align: top;\n",
       "    }\n",
       "\n",
       "    .dataframe thead th {\n",
       "        text-align: right;\n",
       "    }\n",
       "</style>\n",
       "<table border=\"1\" class=\"dataframe\">\n",
       "  <thead>\n",
       "    <tr style=\"text-align: right;\">\n",
       "      <th></th>\n",
       "      <th>id</th>\n",
       "      <th>brand</th>\n",
       "      <th>price_USD</th>\n",
       "      <th>mileage_kkm</th>\n",
       "      <th>fuel_type</th>\n",
       "      <th>transmission_type</th>\n",
       "      <th>pub_date</th>\n",
       "      <th>year_made</th>\n",
       "      <th>model</th>\n",
       "      <th>engine_size</th>\n",
       "    </tr>\n",
       "  </thead>\n",
       "  <tbody>\n",
       "    <tr>\n",
       "      <th>0</th>\n",
       "      <td>0</td>\n",
       "      <td>Mercedes-Benz</td>\n",
       "      <td>8999</td>\n",
       "      <td>159</td>\n",
       "      <td>gas/petrol</td>\n",
       "      <td>automatic</td>\n",
       "      <td>21.05.2021</td>\n",
       "      <td>2007</td>\n",
       "      <td>E 280 4MATIC AT CLASSIC</td>\n",
       "      <td>3.0</td>\n",
       "    </tr>\n",
       "    <tr>\n",
       "      <th>1</th>\n",
       "      <td>1</td>\n",
       "      <td>Mercedes-Benz</td>\n",
       "      <td>79900</td>\n",
       "      <td>103</td>\n",
       "      <td>diesel</td>\n",
       "      <td>automatic</td>\n",
       "      <td>15.05.2021</td>\n",
       "      <td>2015</td>\n",
       "      <td>G 350 Designo</td>\n",
       "      <td>3.0</td>\n",
       "    </tr>\n",
       "    <tr>\n",
       "      <th>2</th>\n",
       "      <td>2</td>\n",
       "      <td>BMW</td>\n",
       "      <td>15999</td>\n",
       "      <td>145</td>\n",
       "      <td>petrol</td>\n",
       "      <td>automatic</td>\n",
       "      <td>18.04.2021</td>\n",
       "      <td>2010</td>\n",
       "      <td>550</td>\n",
       "      <td>4.4</td>\n",
       "    </tr>\n",
       "    <tr>\n",
       "      <th>3</th>\n",
       "      <td>3</td>\n",
       "      <td>MINI</td>\n",
       "      <td>10200</td>\n",
       "      <td>111</td>\n",
       "      <td>petrol</td>\n",
       "      <td>automatic</td>\n",
       "      <td>сьогодні о 12:00</td>\n",
       "      <td>2014</td>\n",
       "      <td>Countryman S</td>\n",
       "      <td>1.6</td>\n",
       "    </tr>\n",
       "    <tr>\n",
       "      <th>4</th>\n",
       "      <td>4</td>\n",
       "      <td>Nissan</td>\n",
       "      <td>13900</td>\n",
       "      <td>97</td>\n",
       "      <td>petrol</td>\n",
       "      <td>automatic</td>\n",
       "      <td>19.05.2021</td>\n",
       "      <td>2010</td>\n",
       "      <td>X-Trail</td>\n",
       "      <td>2.0</td>\n",
       "    </tr>\n",
       "  </tbody>\n",
       "</table>\n",
       "</div>"
      ],
      "text/plain": [
       "   id          brand  price_USD  mileage_kkm   fuel_type transmission_type  \\\n",
       "0   0  Mercedes-Benz       8999          159  gas/petrol         automatic   \n",
       "1   1  Mercedes-Benz      79900          103      diesel         automatic   \n",
       "2   2            BMW      15999          145      petrol         automatic   \n",
       "3   3           MINI      10200          111      petrol         automatic   \n",
       "4   4         Nissan      13900           97      petrol         automatic   \n",
       "\n",
       "                         pub_date  year_made                    model  \\\n",
       "0            21.05.2021                 2007  E 280 4MATIC AT CLASSIC   \n",
       "1            15.05.2021                 2015            G 350 Designo   \n",
       "2            18.04.2021                 2010                      550   \n",
       "3     сьогодні о 12:00                  2014             Countryman S   \n",
       "4            19.05.2021                 2010                  X-Trail   \n",
       "\n",
       "   engine_size  \n",
       "0          3.0  \n",
       "1          3.0  \n",
       "2          4.4  \n",
       "3          1.6  \n",
       "4          2.0  "
      ]
     },
     "execution_count": 51,
     "metadata": {},
     "output_type": "execute_result"
    }
   ],
   "source": [
    "df.head()"
   ]
  },
  {
   "cell_type": "code",
   "execution_count": 52,
   "id": "indirect-heaven",
   "metadata": {},
   "outputs": [
    {
     "data": {
      "text/plain": [
       "'   21.05.2021          '"
      ]
     },
     "execution_count": 52,
     "metadata": {},
     "output_type": "execute_result"
    }
   ],
   "source": [
    "df['pub_date'][0]"
   ]
  },
  {
   "cell_type": "code",
   "execution_count": 53,
   "id": "complete-deviation",
   "metadata": {},
   "outputs": [],
   "source": [
    "# Remove spaces\n",
    "df['pub_date'] = df['pub_date'].str.strip()"
   ]
  },
  {
   "cell_type": "code",
   "execution_count": 54,
   "id": "neutral-contractor",
   "metadata": {},
   "outputs": [
    {
     "data": {
      "text/plain": [
       "'21.05.2021'"
      ]
     },
     "execution_count": 54,
     "metadata": {},
     "output_type": "execute_result"
    }
   ],
   "source": [
    "df['pub_date'][0]"
   ]
  },
  {
   "cell_type": "code",
   "execution_count": 55,
   "id": "accompanied-breathing",
   "metadata": {},
   "outputs": [
    {
     "data": {
      "text/plain": [
       "3    146811\n",
       "1         3\n",
       "Name: pub_date, dtype: int64"
      ]
     },
     "execution_count": 55,
     "metadata": {},
     "output_type": "execute_result"
    }
   ],
   "source": [
    "# Find inconsistencies in 'pub_date'\n",
    "df['pub_date'].str.split('.').str.len().value_counts()"
   ]
  },
  {
   "cell_type": "code",
   "execution_count": 56,
   "id": "paperback-pearl",
   "metadata": {},
   "outputs": [
    {
     "data": {
      "text/html": [
       "<div>\n",
       "<style scoped>\n",
       "    .dataframe tbody tr th:only-of-type {\n",
       "        vertical-align: middle;\n",
       "    }\n",
       "\n",
       "    .dataframe tbody tr th {\n",
       "        vertical-align: top;\n",
       "    }\n",
       "\n",
       "    .dataframe thead th {\n",
       "        text-align: right;\n",
       "    }\n",
       "</style>\n",
       "<table border=\"1\" class=\"dataframe\">\n",
       "  <thead>\n",
       "    <tr style=\"text-align: right;\">\n",
       "      <th></th>\n",
       "      <th>id</th>\n",
       "      <th>brand</th>\n",
       "      <th>price_USD</th>\n",
       "      <th>mileage_kkm</th>\n",
       "      <th>fuel_type</th>\n",
       "      <th>transmission_type</th>\n",
       "      <th>pub_date</th>\n",
       "      <th>year_made</th>\n",
       "      <th>model</th>\n",
       "      <th>engine_size</th>\n",
       "    </tr>\n",
       "  </thead>\n",
       "  <tbody>\n",
       "    <tr>\n",
       "      <th>3</th>\n",
       "      <td>3</td>\n",
       "      <td>MINI</td>\n",
       "      <td>10200</td>\n",
       "      <td>111</td>\n",
       "      <td>petrol</td>\n",
       "      <td>automatic</td>\n",
       "      <td>сьогодні о 12:00</td>\n",
       "      <td>2014</td>\n",
       "      <td>Countryman S</td>\n",
       "      <td>1.6</td>\n",
       "    </tr>\n",
       "    <tr>\n",
       "      <th>23290</th>\n",
       "      <td>23290</td>\n",
       "      <td>Subaru</td>\n",
       "      <td>900</td>\n",
       "      <td>175</td>\n",
       "      <td>petrol</td>\n",
       "      <td>manual</td>\n",
       "      <td>Продано</td>\n",
       "      <td>1988</td>\n",
       "      <td>Leone 4WD Turbo</td>\n",
       "      <td>1.8</td>\n",
       "    </tr>\n",
       "    <tr>\n",
       "      <th>23538</th>\n",
       "      <td>23538</td>\n",
       "      <td>Skoda</td>\n",
       "      <td>6600</td>\n",
       "      <td>186</td>\n",
       "      <td>petrol</td>\n",
       "      <td>manual</td>\n",
       "      <td>Продано</td>\n",
       "      <td>2005</td>\n",
       "      <td>Octavia A5 MPI</td>\n",
       "      <td>1.6</td>\n",
       "    </tr>\n",
       "  </tbody>\n",
       "</table>\n",
       "</div>"
      ],
      "text/plain": [
       "          id   brand  price_USD  mileage_kkm fuel_type transmission_type  \\\n",
       "3          3    MINI      10200          111    petrol         automatic   \n",
       "23290  23290  Subaru        900          175    petrol            manual   \n",
       "23538  23538   Skoda       6600          186    petrol            manual   \n",
       "\n",
       "               pub_date  year_made            model  engine_size  \n",
       "3      сьогодні о 12:00       2014     Countryman S          1.6  \n",
       "23290           Продано       1988  Leone 4WD Turbo          1.8  \n",
       "23538           Продано       2005   Octavia A5 MPI          1.6  "
      ]
     },
     "execution_count": 56,
     "metadata": {},
     "output_type": "execute_result"
    }
   ],
   "source": [
    "df[df['pub_date'].str.split('.').str.len() == 1]"
   ]
  },
  {
   "cell_type": "code",
   "execution_count": 57,
   "id": "occasional-oxygen",
   "metadata": {},
   "outputs": [
    {
     "data": {
      "text/plain": [
       "3.0    146812\n",
       "Name: pub_date, dtype: int64"
      ]
     },
     "execution_count": 57,
     "metadata": {},
     "output_type": "execute_result"
    }
   ],
   "source": [
    "# Normalize 'pub_date' values\n",
    "df.replace({'pub_date': {\n",
    "    'сьогодні о 12:00': '21.05.2021',\n",
    "    'Продано': np.nan\n",
    "}}, inplace=True)\n",
    "\n",
    "df['pub_date'].str.split('.').str.len().value_counts()"
   ]
  },
  {
   "cell_type": "code",
   "execution_count": 58,
   "id": "artificial-holiday",
   "metadata": {},
   "outputs": [
    {
     "data": {
      "text/html": [
       "<div>\n",
       "<style scoped>\n",
       "    .dataframe tbody tr th:only-of-type {\n",
       "        vertical-align: middle;\n",
       "    }\n",
       "\n",
       "    .dataframe tbody tr th {\n",
       "        vertical-align: top;\n",
       "    }\n",
       "\n",
       "    .dataframe thead th {\n",
       "        text-align: right;\n",
       "    }\n",
       "</style>\n",
       "<table border=\"1\" class=\"dataframe\">\n",
       "  <thead>\n",
       "    <tr style=\"text-align: right;\">\n",
       "      <th></th>\n",
       "      <th>id</th>\n",
       "      <th>brand</th>\n",
       "      <th>price_USD</th>\n",
       "      <th>mileage_kkm</th>\n",
       "      <th>fuel_type</th>\n",
       "      <th>transmission_type</th>\n",
       "      <th>pub_date</th>\n",
       "      <th>year_made</th>\n",
       "      <th>model</th>\n",
       "      <th>engine_size</th>\n",
       "    </tr>\n",
       "  </thead>\n",
       "  <tbody>\n",
       "    <tr>\n",
       "      <th>0</th>\n",
       "      <td>0</td>\n",
       "      <td>Mercedes-Benz</td>\n",
       "      <td>8999</td>\n",
       "      <td>159</td>\n",
       "      <td>gas/petrol</td>\n",
       "      <td>automatic</td>\n",
       "      <td>2021-05-21</td>\n",
       "      <td>2007</td>\n",
       "      <td>E 280 4MATIC AT CLASSIC</td>\n",
       "      <td>3.0</td>\n",
       "    </tr>\n",
       "    <tr>\n",
       "      <th>1</th>\n",
       "      <td>1</td>\n",
       "      <td>Mercedes-Benz</td>\n",
       "      <td>79900</td>\n",
       "      <td>103</td>\n",
       "      <td>diesel</td>\n",
       "      <td>automatic</td>\n",
       "      <td>2021-05-15</td>\n",
       "      <td>2015</td>\n",
       "      <td>G 350 Designo</td>\n",
       "      <td>3.0</td>\n",
       "    </tr>\n",
       "    <tr>\n",
       "      <th>2</th>\n",
       "      <td>2</td>\n",
       "      <td>BMW</td>\n",
       "      <td>15999</td>\n",
       "      <td>145</td>\n",
       "      <td>petrol</td>\n",
       "      <td>automatic</td>\n",
       "      <td>2021-04-18</td>\n",
       "      <td>2010</td>\n",
       "      <td>550</td>\n",
       "      <td>4.4</td>\n",
       "    </tr>\n",
       "  </tbody>\n",
       "</table>\n",
       "</div>"
      ],
      "text/plain": [
       "   id          brand  price_USD  mileage_kkm   fuel_type transmission_type  \\\n",
       "0   0  Mercedes-Benz       8999          159  gas/petrol         automatic   \n",
       "1   1  Mercedes-Benz      79900          103      diesel         automatic   \n",
       "2   2            BMW      15999          145      petrol         automatic   \n",
       "\n",
       "    pub_date  year_made                    model  engine_size  \n",
       "0 2021-05-21       2007  E 280 4MATIC AT CLASSIC          3.0  \n",
       "1 2021-05-15       2015            G 350 Designo          3.0  \n",
       "2 2021-04-18       2010                      550          4.4  "
      ]
     },
     "execution_count": 58,
     "metadata": {},
     "output_type": "execute_result"
    }
   ],
   "source": [
    "df['pub_date'] = pd.to_datetime(df['pub_date'])\n",
    "df.head(3)"
   ]
  },
  {
   "cell_type": "markdown",
   "id": "adopted-microwave",
   "metadata": {},
   "source": [
    "### Examine and save cleaned data"
   ]
  },
  {
   "cell_type": "code",
   "execution_count": 59,
   "id": "social-england",
   "metadata": {},
   "outputs": [
    {
     "data": {
      "text/html": [
       "<div>\n",
       "<style scoped>\n",
       "    .dataframe tbody tr th:only-of-type {\n",
       "        vertical-align: middle;\n",
       "    }\n",
       "\n",
       "    .dataframe tbody tr th {\n",
       "        vertical-align: top;\n",
       "    }\n",
       "\n",
       "    .dataframe thead th {\n",
       "        text-align: right;\n",
       "    }\n",
       "</style>\n",
       "<table border=\"1\" class=\"dataframe\">\n",
       "  <thead>\n",
       "    <tr style=\"text-align: right;\">\n",
       "      <th></th>\n",
       "      <th>id</th>\n",
       "      <th>price_USD</th>\n",
       "      <th>mileage_kkm</th>\n",
       "      <th>year_made</th>\n",
       "      <th>engine_size</th>\n",
       "    </tr>\n",
       "  </thead>\n",
       "  <tbody>\n",
       "    <tr>\n",
       "      <th>count</th>\n",
       "      <td>146814.000000</td>\n",
       "      <td>146814.000000</td>\n",
       "      <td>146814.000000</td>\n",
       "      <td>146814.000000</td>\n",
       "      <td>136162.000000</td>\n",
       "    </tr>\n",
       "    <tr>\n",
       "      <th>mean</th>\n",
       "      <td>73406.500000</td>\n",
       "      <td>11559.182421</td>\n",
       "      <td>181.878493</td>\n",
       "      <td>2008.295994</td>\n",
       "      <td>2.018547</td>\n",
       "    </tr>\n",
       "    <tr>\n",
       "      <th>std</th>\n",
       "      <td>42381.695548</td>\n",
       "      <td>16175.555228</td>\n",
       "      <td>102.133535</td>\n",
       "      <td>7.541967</td>\n",
       "      <td>0.712282</td>\n",
       "    </tr>\n",
       "    <tr>\n",
       "      <th>min</th>\n",
       "      <td>0.000000</td>\n",
       "      <td>250.000000</td>\n",
       "      <td>0.000000</td>\n",
       "      <td>1900.000000</td>\n",
       "      <td>0.000000</td>\n",
       "    </tr>\n",
       "    <tr>\n",
       "      <th>25%</th>\n",
       "      <td>36703.250000</td>\n",
       "      <td>5100.000000</td>\n",
       "      <td>113.000000</td>\n",
       "      <td>2005.000000</td>\n",
       "      <td>1.600000</td>\n",
       "    </tr>\n",
       "    <tr>\n",
       "      <th>50%</th>\n",
       "      <td>73406.500000</td>\n",
       "      <td>8000.000000</td>\n",
       "      <td>180.000000</td>\n",
       "      <td>2009.000000</td>\n",
       "      <td>1.900000</td>\n",
       "    </tr>\n",
       "    <tr>\n",
       "      <th>75%</th>\n",
       "      <td>110109.750000</td>\n",
       "      <td>13000.000000</td>\n",
       "      <td>236.000000</td>\n",
       "      <td>2013.000000</td>\n",
       "      <td>2.200000</td>\n",
       "    </tr>\n",
       "    <tr>\n",
       "      <th>max</th>\n",
       "      <td>146813.000000</td>\n",
       "      <td>529900.000000</td>\n",
       "      <td>999.000000</td>\n",
       "      <td>2021.000000</td>\n",
       "      <td>7.400000</td>\n",
       "    </tr>\n",
       "  </tbody>\n",
       "</table>\n",
       "</div>"
      ],
      "text/plain": [
       "                  id      price_USD    mileage_kkm      year_made  \\\n",
       "count  146814.000000  146814.000000  146814.000000  146814.000000   \n",
       "mean    73406.500000   11559.182421     181.878493    2008.295994   \n",
       "std     42381.695548   16175.555228     102.133535       7.541967   \n",
       "min         0.000000     250.000000       0.000000    1900.000000   \n",
       "25%     36703.250000    5100.000000     113.000000    2005.000000   \n",
       "50%     73406.500000    8000.000000     180.000000    2009.000000   \n",
       "75%    110109.750000   13000.000000     236.000000    2013.000000   \n",
       "max    146813.000000  529900.000000     999.000000    2021.000000   \n",
       "\n",
       "         engine_size  \n",
       "count  136162.000000  \n",
       "mean        2.018547  \n",
       "std         0.712282  \n",
       "min         0.000000  \n",
       "25%         1.600000  \n",
       "50%         1.900000  \n",
       "75%         2.200000  \n",
       "max         7.400000  "
      ]
     },
     "execution_count": 59,
     "metadata": {},
     "output_type": "execute_result"
    }
   ],
   "source": [
    "df.describe()"
   ]
  },
  {
   "cell_type": "code",
   "execution_count": 60,
   "id": "periodic-region",
   "metadata": {
    "scrolled": true
   },
   "outputs": [
    {
     "name": "stdout",
     "output_type": "stream",
     "text": [
      "<class 'pandas.core.frame.DataFrame'>\n",
      "RangeIndex: 146814 entries, 0 to 146813\n",
      "Data columns (total 10 columns):\n",
      " #   Column             Non-Null Count   Dtype         \n",
      "---  ------             --------------   -----         \n",
      " 0   id                 146814 non-null  int64         \n",
      " 1   brand              146814 non-null  object        \n",
      " 2   price_USD          146814 non-null  int32         \n",
      " 3   mileage_kkm        146814 non-null  int64         \n",
      " 4   fuel_type          144972 non-null  object        \n",
      " 5   transmission_type  137884 non-null  object        \n",
      " 6   pub_date           146812 non-null  datetime64[ns]\n",
      " 7   year_made          146814 non-null  int64         \n",
      " 8   model              146814 non-null  object        \n",
      " 9   engine_size        136162 non-null  float64       \n",
      "dtypes: datetime64[ns](1), float64(1), int32(1), int64(3), object(4)\n",
      "memory usage: 10.6+ MB\n"
     ]
    }
   ],
   "source": [
    "df.info()"
   ]
  },
  {
   "cell_type": "code",
   "execution_count": 61,
   "id": "indirect-contact",
   "metadata": {},
   "outputs": [],
   "source": [
    "clean_data_path = data_path.parent/'autoria_clean_data.csv'\n",
    "df.to_csv(clean_data_path, index=False)"
   ]
  },
  {
   "cell_type": "code",
   "execution_count": 62,
   "id": "minor-briefs",
   "metadata": {},
   "outputs": [
    {
     "data": {
      "text/html": [
       "<div>\n",
       "<style scoped>\n",
       "    .dataframe tbody tr th:only-of-type {\n",
       "        vertical-align: middle;\n",
       "    }\n",
       "\n",
       "    .dataframe tbody tr th {\n",
       "        vertical-align: top;\n",
       "    }\n",
       "\n",
       "    .dataframe thead th {\n",
       "        text-align: right;\n",
       "    }\n",
       "</style>\n",
       "<table border=\"1\" class=\"dataframe\">\n",
       "  <thead>\n",
       "    <tr style=\"text-align: right;\">\n",
       "      <th></th>\n",
       "      <th>id</th>\n",
       "      <th>brand</th>\n",
       "      <th>price_USD</th>\n",
       "      <th>mileage_kkm</th>\n",
       "      <th>fuel_type</th>\n",
       "      <th>transmission_type</th>\n",
       "      <th>pub_date</th>\n",
       "      <th>year_made</th>\n",
       "      <th>model</th>\n",
       "      <th>engine_size</th>\n",
       "    </tr>\n",
       "  </thead>\n",
       "  <tbody>\n",
       "    <tr>\n",
       "      <th>0</th>\n",
       "      <td>0</td>\n",
       "      <td>Mercedes-Benz</td>\n",
       "      <td>8999</td>\n",
       "      <td>159</td>\n",
       "      <td>gas/petrol</td>\n",
       "      <td>automatic</td>\n",
       "      <td>2021-05-21</td>\n",
       "      <td>2007</td>\n",
       "      <td>E 280 4MATIC AT CLASSIC</td>\n",
       "      <td>3.0</td>\n",
       "    </tr>\n",
       "    <tr>\n",
       "      <th>1</th>\n",
       "      <td>1</td>\n",
       "      <td>Mercedes-Benz</td>\n",
       "      <td>79900</td>\n",
       "      <td>103</td>\n",
       "      <td>diesel</td>\n",
       "      <td>automatic</td>\n",
       "      <td>2021-05-15</td>\n",
       "      <td>2015</td>\n",
       "      <td>G 350 Designo</td>\n",
       "      <td>3.0</td>\n",
       "    </tr>\n",
       "    <tr>\n",
       "      <th>2</th>\n",
       "      <td>2</td>\n",
       "      <td>BMW</td>\n",
       "      <td>15999</td>\n",
       "      <td>145</td>\n",
       "      <td>petrol</td>\n",
       "      <td>automatic</td>\n",
       "      <td>2021-04-18</td>\n",
       "      <td>2010</td>\n",
       "      <td>550</td>\n",
       "      <td>4.4</td>\n",
       "    </tr>\n",
       "    <tr>\n",
       "      <th>3</th>\n",
       "      <td>3</td>\n",
       "      <td>MINI</td>\n",
       "      <td>10200</td>\n",
       "      <td>111</td>\n",
       "      <td>petrol</td>\n",
       "      <td>automatic</td>\n",
       "      <td>2021-05-21</td>\n",
       "      <td>2014</td>\n",
       "      <td>Countryman S</td>\n",
       "      <td>1.6</td>\n",
       "    </tr>\n",
       "    <tr>\n",
       "      <th>4</th>\n",
       "      <td>4</td>\n",
       "      <td>Nissan</td>\n",
       "      <td>13900</td>\n",
       "      <td>97</td>\n",
       "      <td>petrol</td>\n",
       "      <td>automatic</td>\n",
       "      <td>2021-05-19</td>\n",
       "      <td>2010</td>\n",
       "      <td>X-Trail</td>\n",
       "      <td>2.0</td>\n",
       "    </tr>\n",
       "    <tr>\n",
       "      <th>...</th>\n",
       "      <td>...</td>\n",
       "      <td>...</td>\n",
       "      <td>...</td>\n",
       "      <td>...</td>\n",
       "      <td>...</td>\n",
       "      <td>...</td>\n",
       "      <td>...</td>\n",
       "      <td>...</td>\n",
       "      <td>...</td>\n",
       "      <td>...</td>\n",
       "    </tr>\n",
       "    <tr>\n",
       "      <th>146809</th>\n",
       "      <td>146809</td>\n",
       "      <td>Renault</td>\n",
       "      <td>6100</td>\n",
       "      <td>260</td>\n",
       "      <td>diesel</td>\n",
       "      <td>manual</td>\n",
       "      <td>2021-10-05</td>\n",
       "      <td>2008</td>\n",
       "      <td>Kangoo пасс.</td>\n",
       "      <td>1.5</td>\n",
       "    </tr>\n",
       "    <tr>\n",
       "      <th>146810</th>\n",
       "      <td>146810</td>\n",
       "      <td>Audi</td>\n",
       "      <td>2100</td>\n",
       "      <td>352</td>\n",
       "      <td>petrol</td>\n",
       "      <td>manual</td>\n",
       "      <td>2021-10-05</td>\n",
       "      <td>1988</td>\n",
       "      <td>80 1.8 S</td>\n",
       "      <td>NaN</td>\n",
       "    </tr>\n",
       "    <tr>\n",
       "      <th>146811</th>\n",
       "      <td>146811</td>\n",
       "      <td>BMW</td>\n",
       "      <td>18000</td>\n",
       "      <td>70</td>\n",
       "      <td>petrol</td>\n",
       "      <td>automatic</td>\n",
       "      <td>2021-10-05</td>\n",
       "      <td>2011</td>\n",
       "      <td>520 F10</td>\n",
       "      <td>2.0</td>\n",
       "    </tr>\n",
       "    <tr>\n",
       "      <th>146812</th>\n",
       "      <td>146812</td>\n",
       "      <td>ВАЗ</td>\n",
       "      <td>400</td>\n",
       "      <td>278</td>\n",
       "      <td>petrol</td>\n",
       "      <td>manual</td>\n",
       "      <td>2021-10-05</td>\n",
       "      <td>2006</td>\n",
       "      <td>1118</td>\n",
       "      <td>NaN</td>\n",
       "    </tr>\n",
       "    <tr>\n",
       "      <th>146813</th>\n",
       "      <td>146813</td>\n",
       "      <td>Nissan</td>\n",
       "      <td>14900</td>\n",
       "      <td>73</td>\n",
       "      <td>petrol</td>\n",
       "      <td>automatic</td>\n",
       "      <td>2021-10-05</td>\n",
       "      <td>2017</td>\n",
       "      <td>Rogue</td>\n",
       "      <td>2.5</td>\n",
       "    </tr>\n",
       "  </tbody>\n",
       "</table>\n",
       "<p>146814 rows × 10 columns</p>\n",
       "</div>"
      ],
      "text/plain": [
       "            id          brand  price_USD  mileage_kkm   fuel_type  \\\n",
       "0            0  Mercedes-Benz       8999          159  gas/petrol   \n",
       "1            1  Mercedes-Benz      79900          103      diesel   \n",
       "2            2            BMW      15999          145      petrol   \n",
       "3            3           MINI      10200          111      petrol   \n",
       "4            4         Nissan      13900           97      petrol   \n",
       "...        ...            ...        ...          ...         ...   \n",
       "146809  146809        Renault       6100          260      diesel   \n",
       "146810  146810           Audi       2100          352      petrol   \n",
       "146811  146811            BMW      18000           70      petrol   \n",
       "146812  146812            ВАЗ        400          278      petrol   \n",
       "146813  146813         Nissan      14900           73      petrol   \n",
       "\n",
       "       transmission_type    pub_date  year_made                    model  \\\n",
       "0              automatic  2021-05-21       2007  E 280 4MATIC AT CLASSIC   \n",
       "1              automatic  2021-05-15       2015            G 350 Designo   \n",
       "2              automatic  2021-04-18       2010                      550   \n",
       "3              automatic  2021-05-21       2014             Countryman S   \n",
       "4              automatic  2021-05-19       2010                  X-Trail   \n",
       "...                  ...         ...        ...                      ...   \n",
       "146809            manual  2021-10-05       2008             Kangoo пасс.   \n",
       "146810            manual  2021-10-05       1988                 80 1.8 S   \n",
       "146811         automatic  2021-10-05       2011                  520 F10   \n",
       "146812            manual  2021-10-05       2006                     1118   \n",
       "146813         automatic  2021-10-05       2017                    Rogue   \n",
       "\n",
       "        engine_size  \n",
       "0               3.0  \n",
       "1               3.0  \n",
       "2               4.4  \n",
       "3               1.6  \n",
       "4               2.0  \n",
       "...             ...  \n",
       "146809          1.5  \n",
       "146810          NaN  \n",
       "146811          2.0  \n",
       "146812          NaN  \n",
       "146813          2.5  \n",
       "\n",
       "[146814 rows x 10 columns]"
      ]
     },
     "execution_count": 62,
     "metadata": {},
     "output_type": "execute_result"
    }
   ],
   "source": [
    "# Test saves file reads properly\n",
    "clean_df = pd.read_csv(clean_data_path)\n",
    "clean_df"
   ]
  },
  {
   "cell_type": "code",
   "execution_count": null,
   "id": "quiet-guyana",
   "metadata": {},
   "outputs": [],
   "source": []
  }
 ],
 "metadata": {
  "kernelspec": {
   "display_name": "Python 3",
   "language": "python",
   "name": "python3"
  },
  "language_info": {
   "codemirror_mode": {
    "name": "ipython",
    "version": 3
   },
   "file_extension": ".py",
   "mimetype": "text/x-python",
   "name": "python",
   "nbconvert_exporter": "python",
   "pygments_lexer": "ipython3",
   "version": "3.8.5"
  },
  "varInspector": {
   "cols": {
    "lenName": 16,
    "lenType": 16,
    "lenVar": 40
   },
   "kernels_config": {
    "python": {
     "delete_cmd_postfix": "",
     "delete_cmd_prefix": "del ",
     "library": "var_list.py",
     "varRefreshCmd": "print(var_dic_list())"
    },
    "r": {
     "delete_cmd_postfix": ") ",
     "delete_cmd_prefix": "rm(",
     "library": "var_list.r",
     "varRefreshCmd": "cat(var_dic_list()) "
    }
   },
   "position": {
    "height": "271.85px",
    "left": "1390px",
    "right": "20px",
    "top": "120px",
    "width": "350px"
   },
   "types_to_exclude": [
    "module",
    "function",
    "builtin_function_or_method",
    "instance",
    "_Feature"
   ],
   "window_display": false
  }
 },
 "nbformat": 4,
 "nbformat_minor": 5
}
